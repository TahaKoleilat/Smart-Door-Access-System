{
  "cells": [
    {
      "cell_type": "code",
      "source": [
        "!pip install opendatasets"
      ],
      "metadata": {
        "colab": {
          "base_uri": "https://localhost:8080/"
        },
        "id": "pNK8q5Sk66j6",
        "outputId": "b10c0aea-b802-4b4c-8ebf-5528fdf60841"
      },
      "execution_count": 3,
      "outputs": [
        {
          "output_type": "stream",
          "name": "stdout",
          "text": [
            "Looking in indexes: https://pypi.org/simple, https://us-python.pkg.dev/colab-wheels/public/simple/\n",
            "Collecting opendatasets\n",
            "  Downloading opendatasets-0.1.22-py3-none-any.whl (15 kB)\n",
            "Requirement already satisfied: click in /usr/local/lib/python3.7/dist-packages (from opendatasets) (7.1.2)\n",
            "Requirement already satisfied: kaggle in /usr/local/lib/python3.7/dist-packages (from opendatasets) (1.5.12)\n",
            "Requirement already satisfied: tqdm in /usr/local/lib/python3.7/dist-packages (from opendatasets) (4.64.1)\n",
            "Requirement already satisfied: python-slugify in /usr/local/lib/python3.7/dist-packages (from kaggle->opendatasets) (6.1.2)\n",
            "Requirement already satisfied: requests in /usr/local/lib/python3.7/dist-packages (from kaggle->opendatasets) (2.23.0)\n",
            "Requirement already satisfied: certifi in /usr/local/lib/python3.7/dist-packages (from kaggle->opendatasets) (2022.6.15)\n",
            "Requirement already satisfied: python-dateutil in /usr/local/lib/python3.7/dist-packages (from kaggle->opendatasets) (2.8.2)\n",
            "Requirement already satisfied: urllib3 in /usr/local/lib/python3.7/dist-packages (from kaggle->opendatasets) (1.24.3)\n",
            "Requirement already satisfied: six>=1.10 in /usr/local/lib/python3.7/dist-packages (from kaggle->opendatasets) (1.15.0)\n",
            "Requirement already satisfied: text-unidecode>=1.3 in /usr/local/lib/python3.7/dist-packages (from python-slugify->kaggle->opendatasets) (1.3)\n",
            "Requirement already satisfied: idna<3,>=2.5 in /usr/local/lib/python3.7/dist-packages (from requests->kaggle->opendatasets) (2.10)\n",
            "Requirement already satisfied: chardet<4,>=3.0.2 in /usr/local/lib/python3.7/dist-packages (from requests->kaggle->opendatasets) (3.0.4)\n",
            "Installing collected packages: opendatasets\n",
            "Successfully installed opendatasets-0.1.22\n"
          ]
        }
      ]
    },
    {
      "cell_type": "code",
      "execution_count": 4,
      "metadata": {
        "id": "nRO8uuywLK2N"
      },
      "outputs": [],
      "source": [
        "import pandas as pd\n",
        "import numpy as np\n",
        "import os\n",
        "\n",
        "import matplotlib.pyplot as plt\n",
        "import seaborn as sns\n",
        "\n",
        "import opendatasets as od\n",
        "\n",
        "from keras.preprocessing.image import ImageDataGenerator\n",
        "from keras.layers import Conv2D,Dense, MaxPooling2D,Flatten,Dropout,Activation, BatchNormalization\n",
        "from tensorflow.keras.optimizers import Adam,RMSprop,SGD\n",
        "from keras import regularizers\n",
        "import tensorflow as tf\n",
        "from keras.callbacks import ModelCheckpoint,EarlyStopping,ReduceLROnPlateau\n",
        "import datetime\n",
        "from tensorflow.keras.utils import plot_model"
      ]
    },
    {
      "cell_type": "code",
      "execution_count": 6,
      "metadata": {
        "colab": {
          "base_uri": "https://localhost:8080/"
        },
        "id": "OQnktfffmSXf",
        "outputId": "68e47dea-5c62-46b4-8022-18a177126ec7"
      },
      "outputs": [
        {
          "output_type": "stream",
          "name": "stdout",
          "text": [
            "Please provide your Kaggle credentials to download this dataset. Learn more: http://bit.ly/kaggle-creds\n",
            "Your Kaggle username: tahakoleilat1\n",
            "Your Kaggle Key: ··········\n",
            "Downloading facemask-dataset.zip to dataset1/facemask-dataset\n"
          ]
        },
        {
          "output_type": "stream",
          "name": "stderr",
          "text": [
            "100%|██████████| 114M/114M [00:01<00:00, 104MB/s]\n"
          ]
        },
        {
          "output_type": "stream",
          "name": "stdout",
          "text": [
            "\n"
          ]
        }
      ],
      "source": [
        "od.download(\"https://www.kaggle.com/datasets/sumansid/facemask-dataset\",data_dir=\"dataset1\")"
      ]
    },
    {
      "cell_type": "code",
      "source": [
        "od.download(\"https://www.kaggle.com/datasets/ahemateja19bec1025/facemask-dataset\",data_dir=\"dataset2\")"
      ],
      "metadata": {
        "id": "uBmsT0bap2vY",
        "colab": {
          "base_uri": "https://localhost:8080/"
        },
        "outputId": "ce1c82bd-999c-4afd-8b75-b75e42d13a1d"
      },
      "execution_count": 7,
      "outputs": [
        {
          "output_type": "stream",
          "name": "stdout",
          "text": [
            "Please provide your Kaggle credentials to download this dataset. Learn more: http://bit.ly/kaggle-creds\n",
            "Your Kaggle username: tahakoleilat1\n",
            "Your Kaggle Key: ··········\n",
            "Downloading facemask-dataset.zip to dataset2/facemask-dataset\n"
          ]
        },
        {
          "output_type": "stream",
          "name": "stderr",
          "text": [
            "100%|██████████| 50.4M/50.4M [00:00<00:00, 178MB/s]\n"
          ]
        },
        {
          "output_type": "stream",
          "name": "stdout",
          "text": [
            "\n"
          ]
        }
      ]
    },
    {
      "cell_type": "code",
      "source": [
        "od.download(\"https://www.kaggle.com/datasets/vinaykudari/facemask\",data_dir=\"dataset3\")"
      ],
      "metadata": {
        "colab": {
          "base_uri": "https://localhost:8080/"
        },
        "id": "5A4H4tKq8T8P",
        "outputId": "ad4b5e82-1b9d-43c6-f748-d8a09c95bc1b"
      },
      "execution_count": 8,
      "outputs": [
        {
          "output_type": "stream",
          "name": "stdout",
          "text": [
            "Please provide your Kaggle credentials to download this dataset. Learn more: http://bit.ly/kaggle-creds\n",
            "Your Kaggle username: \n",
            "Your Kaggle username: tahakoleilat1\n",
            "Your Kaggle Key: ··········\n",
            "Downloading facemask.zip to dataset3/facemask\n"
          ]
        },
        {
          "output_type": "stream",
          "name": "stderr",
          "text": [
            "100%|██████████| 137M/137M [00:01<00:00, 129MB/s]\n"
          ]
        },
        {
          "output_type": "stream",
          "name": "stdout",
          "text": [
            "\n"
          ]
        }
      ]
    },
    {
      "cell_type": "code",
      "source": [
        "od.download(\"https://www.kaggle.com/datasets/pranavsingaraju/facemask-detection-dataset-20000-images\",data_dir=\"dataset4\")"
      ],
      "metadata": {
        "colab": {
          "base_uri": "https://localhost:8080/"
        },
        "id": "4nj2SXLl8okP",
        "outputId": "16d54d60-0937-4477-f125-b4ac74d85742"
      },
      "execution_count": 9,
      "outputs": [
        {
          "output_type": "stream",
          "name": "stdout",
          "text": [
            "Please provide your Kaggle credentials to download this dataset. Learn more: http://bit.ly/kaggle-creds\n",
            "Your Kaggle username: tahakoleilat1\n",
            "Your Kaggle Key: ··········\n",
            "Downloading facemask-detection-dataset-20000-images.zip to dataset4/facemask-detection-dataset-20000-images\n"
          ]
        },
        {
          "output_type": "stream",
          "name": "stderr",
          "text": [
            "100%|██████████| 604M/604M [00:04<00:00, 138MB/s]\n"
          ]
        },
        {
          "output_type": "stream",
          "name": "stdout",
          "text": [
            "\n"
          ]
        }
      ]
    },
    {
      "cell_type": "code",
      "source": [
        "od.download(\"https://www.kaggle.com/datasets/ashiqurrahmantanzil/facemask-dataset\",data_dir=\"dataset5\")"
      ],
      "metadata": {
        "colab": {
          "base_uri": "https://localhost:8080/"
        },
        "id": "FvJ-Fx8H8ycf",
        "outputId": "8e4b4844-f866-4b40-dc75-4d1cf9d33ddc"
      },
      "execution_count": 10,
      "outputs": [
        {
          "output_type": "stream",
          "name": "stdout",
          "text": [
            "Please provide your Kaggle credentials to download this dataset. Learn more: http://bit.ly/kaggle-creds\n",
            "Your Kaggle username: tahakoleilat1\n",
            "Your Kaggle Key: ··········\n",
            "Downloading facemask-dataset.zip to dataset5/facemask-dataset\n"
          ]
        },
        {
          "output_type": "stream",
          "name": "stderr",
          "text": [
            "100%|██████████| 1.26G/1.26G [00:08<00:00, 161MB/s]\n"
          ]
        },
        {
          "output_type": "stream",
          "name": "stdout",
          "text": [
            "\n"
          ]
        }
      ]
    },
    {
      "cell_type": "code",
      "execution_count": 11,
      "metadata": {
        "id": "QGrg4JrcOrR4"
      },
      "outputs": [],
      "source": [
        "train_datagen = ImageDataGenerator(preprocessing_function=tf.keras.applications.resnet50.preprocess_input,\n",
        "                                   validation_split = 0.2, rotation_range=2,\n",
        "        width_shift_range=0.2,\n",
        "        height_shift_range=0.2,\n",
        "        shear_range=0.2,\n",
        "        zoom_range=0.2,\n",
        "        fill_mode='nearest')"
      ]
    },
    {
      "cell_type": "code",
      "execution_count": 12,
      "metadata": {
        "id": "fBHSpZu4krXX"
      },
      "outputs": [],
      "source": [
        "valid_datagen = ImageDataGenerator(preprocessing_function=tf.keras.applications.resnet50.preprocess_input,validation_split=0.2)"
      ]
    },
    {
      "cell_type": "code",
      "execution_count": 13,
      "metadata": {
        "colab": {
          "base_uri": "https://localhost:8080/"
        },
        "id": "Cn1LAOS6-gZx",
        "outputId": "256c71e4-b8cb-4c44-e8a1-d981b096bed6"
      },
      "outputs": [
        {
          "output_type": "stream",
          "name": "stdout",
          "text": [
            "Found 270 images belonging to 2 classes.\n",
            "Found 67 images belonging to 2 classes.\n"
          ]
        }
      ],
      "source": [
        "train_dataset1  = train_datagen.flow_from_directory(directory = '/content/dataset1/facemask-dataset',\n",
        "                                                   class_mode = 'binary',\n",
        "                                                   color_mode=\"rgb\",\n",
        "                                                    subset=\"training\",\n",
        "                                                     target_size = (128,128),\n",
        "                                                   classes={'Mask': 0,'No Mask': 1})\n",
        "valid_dataset1 = valid_datagen.flow_from_directory(directory = '/content/dataset1/facemask-dataset',\n",
        "                                                  class_mode = 'binary',\n",
        "                                                  subset = 'validation',\n",
        "                                                  color_mode=\"rgb\",\n",
        "                                                    target_size = (128,128),\n",
        "                                                  classes={'Mask': 0,'No Mask': 1})"
      ]
    },
    {
      "cell_type": "code",
      "source": [
        "train_datagen = ImageDataGenerator(preprocessing_function=tf.keras.applications.resnet50.preprocess_input,\n",
        "                                   validation_split = 0.2, rotation_range=2,\n",
        "        width_shift_range=0.2,\n",
        "        height_shift_range=0.2,\n",
        "        shear_range=0.2,\n",
        "        zoom_range=0.2,\n",
        "        fill_mode='nearest')\n",
        "valid_datagen = ImageDataGenerator(preprocessing_function=tf.keras.applications.resnet50.preprocess_input,validation_split=0.2)\n",
        "train_dataset2  = train_datagen.flow_from_directory(directory = '/content/dataset2/facemask-dataset/dataset/dataset',\n",
        "                                                   class_mode = 'binary',\n",
        "                                                   color_mode=\"rgb\",\n",
        "                                                    subset=\"training\",\n",
        "                                                     target_size = (128,128),\n",
        "                                                   classes={'1': 0,'0': 1})\n",
        "valid_dataset2 = valid_datagen.flow_from_directory(directory = '/content/dataset2/facemask-dataset/dataset/dataset',\n",
        "                                                  class_mode = 'binary',\n",
        "                                                  subset = 'validation',\n",
        "                                                  color_mode=\"rgb\",\n",
        "                                                    target_size = (128,128),\n",
        "                                                  classes={'1': 0,'0': 1})"
      ],
      "metadata": {
        "colab": {
          "base_uri": "https://localhost:8080/"
        },
        "id": "cqLOqtGDMfQm",
        "outputId": "25345e3e-0526-4be1-88a8-dbad526e5841"
      },
      "execution_count": 14,
      "outputs": [
        {
          "output_type": "stream",
          "name": "stdout",
          "text": [
            "Found 1101 images belonging to 2 classes.\n",
            "Found 275 images belonging to 2 classes.\n"
          ]
        }
      ]
    },
    {
      "cell_type": "code",
      "source": [
        "train_datagen = ImageDataGenerator(preprocessing_function=tf.keras.applications.resnet50.preprocess_input,\n",
        "                                   validation_split = 0.2, rotation_range=2,\n",
        "        width_shift_range=0.2,\n",
        "        height_shift_range=0.2,\n",
        "        shear_range=0.2,\n",
        "        zoom_range=0.2,\n",
        "        fill_mode='nearest')\n",
        "valid_datagen = ImageDataGenerator(preprocessing_function=tf.keras.applications.resnet50.preprocess_input,validation_split=0.2)\n",
        "train_dataset3  = train_datagen.flow_from_directory(directory = '/content/dataset3/facemask/train',\n",
        "                                                   class_mode = 'binary',\n",
        "                                                   color_mode=\"rgb\",\n",
        "                                                    subset=\"training\",\n",
        "                                                     target_size = (128,128),\n",
        "                                                   classes={'with_mask': 0,'without_mask': 1})\n",
        "valid_dataset3 = valid_datagen.flow_from_directory(directory = '/content/dataset3/facemask/train',\n",
        "                                                  class_mode = 'binary',\n",
        "                                                  subset = 'validation',\n",
        "                                                  color_mode=\"rgb\",\n",
        "                                                    target_size = (128,128),\n",
        "                                                  classes={'with_mask': 0,'without_mask': 1})"
      ],
      "metadata": {
        "colab": {
          "base_uri": "https://localhost:8080/"
        },
        "id": "kkjdK_-6M9JL",
        "outputId": "7de487ee-9142-480e-cf65-fa38107dc699"
      },
      "execution_count": 15,
      "outputs": [
        {
          "output_type": "stream",
          "name": "stdout",
          "text": [
            "Found 435 images belonging to 2 classes.\n",
            "Found 108 images belonging to 2 classes.\n"
          ]
        }
      ]
    },
    {
      "cell_type": "code",
      "source": [
        "train_datagen = ImageDataGenerator(preprocessing_function=tf.keras.applications.resnet50.preprocess_input,\n",
        "                                   validation_split = 0.2, rotation_range=2,\n",
        "        width_shift_range=0.2,\n",
        "        height_shift_range=0.2,\n",
        "        shear_range=0.2,\n",
        "        zoom_range=0.2,\n",
        "        fill_mode='nearest')\n",
        "valid_datagen = ImageDataGenerator(preprocessing_function=tf.keras.applications.resnet50.preprocess_input,validation_split=0.2)\n",
        "train_dataset4  = train_datagen.flow_from_directory(directory = '/content/dataset4/facemask-detection-dataset-20000-images',\n",
        "                                                   class_mode = 'binary',\n",
        "                                                   color_mode=\"rgb\",\n",
        "                                                    subset=\"training\",\n",
        "                                                     target_size = (128,128),\n",
        "                                                   classes={'new_with_mask': 0,'new_without_mask': 1})\n",
        "valid_dataset4 = valid_datagen.flow_from_directory(directory = '/content/dataset4/facemask-detection-dataset-20000-images',\n",
        "                                                  class_mode = 'binary',\n",
        "                                                  subset = 'validation',\n",
        "                                                  color_mode=\"rgb\",\n",
        "                                                    target_size = (128,128),\n",
        "                                                  classes={'new_with_mask': 0,'new_without_mask': 1})"
      ],
      "metadata": {
        "colab": {
          "base_uri": "https://localhost:8080/"
        },
        "id": "ozPM7BDDNW-j",
        "outputId": "38d9333f-17ba-4ccc-fb9b-e54855a8b96f"
      },
      "execution_count": 16,
      "outputs": [
        {
          "output_type": "stream",
          "name": "stdout",
          "text": [
            "Found 16000 images belonging to 2 classes.\n",
            "Found 4000 images belonging to 2 classes.\n"
          ]
        }
      ]
    },
    {
      "cell_type": "code",
      "source": [
        "train_datagen = ImageDataGenerator(preprocessing_function=tf.keras.applications.resnet50.preprocess_input,\n",
        "                                   validation_split = 0.2, rotation_range=2,\n",
        "        width_shift_range=0.2,\n",
        "        height_shift_range=0.2,\n",
        "        shear_range=0.2,\n",
        "        zoom_range=0.2,\n",
        "        fill_mode='nearest')\n",
        "valid_datagen = ImageDataGenerator(preprocessing_function=tf.keras.applications.resnet50.preprocess_input,validation_split=0.2)\n",
        "train_dataset5  = train_datagen.flow_from_directory(directory = '/content/dataset5/facemask-dataset/dataset_final',\n",
        "                                                   class_mode = 'binary',\n",
        "                                                   color_mode=\"rgb\",\n",
        "                                                    subset=\"training\",\n",
        "                                                     target_size = (128,128),\n",
        "                                                   classes={'with_mask': 0,'without_mask': 1})\n",
        "test_dataset = valid_datagen.flow_from_directory(directory = '/content/dataset5/facemask-dataset/dataset_final',\n",
        "                                                  class_mode = 'binary',\n",
        "                                                  subset = 'validation',\n",
        "                                                  color_mode=\"rgb\",\n",
        "                                                    target_size = (128,128),\n",
        "                                                 shuffle = False,\n",
        "                                                  classes={'with_mask': 0,'without_mask': 1})"
      ],
      "metadata": {
        "colab": {
          "base_uri": "https://localhost:8080/"
        },
        "id": "hsfGYC2qNgy0",
        "outputId": "68504393-b3cd-42b4-a0f9-406922a9bbf3"
      },
      "execution_count": 17,
      "outputs": [
        {
          "output_type": "stream",
          "name": "stdout",
          "text": [
            "Found 11869 images belonging to 2 classes.\n",
            "Found 2966 images belonging to 2 classes.\n"
          ]
        }
      ]
    },
    {
      "cell_type": "code",
      "source": [
        "def combine_gen(*gens):\n",
        "    while True:\n",
        "        for g in gens:\n",
        "            yield next(g)"
      ],
      "metadata": {
        "id": "cL3YrW0QNrkC"
      },
      "execution_count": 18,
      "outputs": []
    },
    {
      "cell_type": "code",
      "source": [
        "training_set = combine_gen(train_dataset1,train_dataset2,train_dataset3,train_dataset4,train_dataset5)\n",
        "valid_set =  combine_gen(valid_dataset1,valid_dataset2,valid_dataset3,valid_dataset4)\n",
        "test_set = test_dataset"
      ],
      "metadata": {
        "id": "G4FK9g_xN7UM"
      },
      "execution_count": 19,
      "outputs": []
    },
    {
      "cell_type": "code",
      "execution_count": 42,
      "metadata": {
        "id": "w1WTW0Q_DcwJ"
      },
      "outputs": [],
      "source": [
        "import numpy as np \n",
        "import pandas as pd\n",
        "\n",
        "\n",
        "import seaborn as sn\n",
        "from tensorflow import keras\n",
        "from sklearn.metrics import confusion_matrix, classification_report\n",
        "from keras.models import Sequential\n",
        "from keras.layers import Dense, Dropout, Flatten, Conv2D, MaxPooling2D, BatchNormalization\n",
        "from keras.preprocessing.image import ImageDataGenerator\n",
        "import matplotlib.pyplot as plt\n",
        "\n",
        "def build_model(resnet, nodes, drop_rate, activation):\n",
        "    return Sequential([\n",
        "        resnet,\n",
        "        Flatten(),\n",
        "        Dense(nodes,kernel_initializer='he_uniform'),\n",
        "        BatchNormalization(),\n",
        "        Activation('relu'),\n",
        "        Dropout(drop_rate),\n",
        "        Dense(1,activation='sigmoid')\n",
        "    ])\n",
        "def train_model(model, epochs, learning_rate):\n",
        "   checkpoint_filepath = '/tmp/checkpointNew'\n",
        "   earlyStopping = tf.keras.callbacks.EarlyStopping(\n",
        "        patience=5,\n",
        "        monitor=\"val_accuracy\",\n",
        "        verbose=1,)\n",
        "   model_checkpoint_callback = tf.keras.callbacks.ModelCheckpoint(\n",
        "       filepath=checkpoint_filepath,\n",
        "    save_weights_only=True,\n",
        "    monitor='val_accuracy',\n",
        "    mode='max',\n",
        "    save_best_only=True,\n",
        "    save_freq=\"epoch\")\n",
        "   lrd = tf.keras.callbacks.ReduceLROnPlateau(monitor = 'val_loss',patience = 3,verbose = 1,factor = 0.50, min_lr = 1e-10)\n",
        "   adam = keras.optimizers.Adam(learning_rate=learning_rate)\n",
        "   METRICS = [\n",
        "      tf.keras.metrics.BinaryAccuracy(name='accuracy'),\n",
        "      tf.keras.metrics.Precision(name='precision'),\n",
        "      tf.keras.metrics.Recall(name='recall'),  \n",
        "      tf.keras.metrics.AUC(name='auc'),\n",
        "]\n",
        "   model.compile(optimizer=adam, loss='binary_crossentropy', metrics=METRICS)\n",
        "   history = model.fit(training_set, validation_data = valid_set,validation_steps = 100, batch_size = 512, steps_per_epoch= 200,  epochs = epochs,\n",
        "                        callbacks=[model_checkpoint_callback,earlyStopping,lrd])\n",
        "   return history\n",
        "def plot_metrics(model, history, test):\n",
        "    print(\"Accuracy of model on testing data : \" , model.evaluate(test_set)[1]*100 , \"%\")\n",
        "    fig, (ax1, ax2,ax3,ax4,ax5) = plt.subplots(1,5, figsize= (20,5))\n",
        "    fig.suptitle(\" Metrics evaluation of the model \")\n",
        "\n",
        "    ax1.plot(range(1, len(history.history['accuracy']) + 1), history.history['accuracy'])\n",
        "    ax1.plot(range(1, len(history.history['val_accuracy']) + 1), history.history['val_accuracy'])\n",
        "    ax1.set_title('History of Accuracy')\n",
        "    ax1.set_xlabel('Epochs')\n",
        "    ax1.set_ylabel('Accuracy')\n",
        "    ax1.legend(['training', 'validation'])\n",
        "\n",
        "\n",
        "    ax2.plot(range(1, len(history.history['loss']) + 1), history.history['loss'])\n",
        "    ax2.plot(range(1, len(history.history['val_loss']) + 1), history.history['val_loss'])\n",
        "    ax2.set_title('History of Loss')\n",
        "    ax2.set_xlabel('Epochs')\n",
        "    ax2.set_ylabel('Loss')\n",
        "    ax2.legend(['training', 'validation'])\n",
        "    \n",
        "    ax3.plot(range(1, len(history.history['auc']) + 1), history.history['auc'])\n",
        "    ax3.plot(range(1, len(history.history['val_auc']) + 1), history.history['val_auc'])\n",
        "    ax3.set_title('History of AUC')\n",
        "    ax3.set_xlabel('Epochs')\n",
        "    ax3.set_ylabel('AUC')\n",
        "    ax3.legend(['training', 'validation'])\n",
        "    \n",
        "    ax4.plot(range(1, len(history.history['precision']) + 1), history.history['precision'])\n",
        "    ax4.plot(range(1, len(history.history['val_precision']) + 1), history.history['val_precision'])\n",
        "    ax4.set_title('History of Precision')\n",
        "    ax4.set_xlabel('Epochs')\n",
        "    ax4.set_ylabel('Precision')\n",
        "    ax4.legend(['training', 'validation'])\n",
        "\n",
        "    ax5.plot(range(1, len(history.history['recall']) + 1), history.history['recall'])\n",
        "    ax5.plot(range(1, len(history.history['val_recall']) + 1), history.history['val_recall'])\n",
        "    ax5.set_title('History of Recall')\n",
        "    ax5.set_xlabel('Epochs')\n",
        "    ax5.set_ylabel('Recall')\n",
        "    ax5.legend(['training', 'validation'])\n",
        "    plt.show()\n",
        "def test_model(model, test_set):\n",
        "    y_pred = model.predict(test_set)\n",
        "    y_result = []\n",
        "    for p in y_pred:\n",
        "        y_result.append(int(p >= 0.5))\n",
        "    \n",
        "    y_actual = []\n",
        "    for i in range(len(test_set)):\n",
        "        for p in test_set[i][1]:\n",
        "            y_actual.append(int(p >= 0.5))\n",
        "    \n",
        "    print(classification_report(y_actual, y_result))\n",
        "    \n",
        "    cm = tf.math.confusion_matrix(labels = y_actual, predictions = y_result)\n",
        "\n",
        "    plt.figure(figsize = (10, 8))\n",
        "    sn.heatmap(cm, annot = True, fmt = 'd')\n",
        "    plt.xlabel('Predicted')\n",
        "    plt.ylabel('Truth')\n",
        "def CNN(resnet, dense_nodes, drop, activation, epochs, lr):\n",
        "    model = build_model(resnet50, dense_nodes, drop, activation)\n",
        "    model.summary()\n",
        "    \n",
        "    history = train_model(model, epochs, lr)\n",
        "    \n",
        "    plot_metrics(model, history, test_set)\n",
        "    \n",
        "    test_model(model, test_set)\n",
        "    return model\n"
      ]
    },
    {
      "cell_type": "code",
      "execution_count": 43,
      "metadata": {
        "colab": {
          "base_uri": "https://localhost:8080/",
          "height": 1000
        },
        "id": "nbxgP7nv9VtL",
        "outputId": "aff5c52a-dd27-435a-f9d2-d4a1a6eefaa2"
      },
      "outputs": [
        {
          "output_type": "stream",
          "name": "stdout",
          "text": [
            "Model: \"sequential_6\"\n",
            "_________________________________________________________________\n",
            " Layer (type)                Output Shape              Param #   \n",
            "=================================================================\n",
            " resnet50 (Functional)       (None, 4, 4, 2048)        23587712  \n",
            "                                                                 \n",
            " flatten_6 (Flatten)         (None, 32768)             0         \n",
            "                                                                 \n",
            " dense_12 (Dense)            (None, 256)               8388864   \n",
            "                                                                 \n",
            " batch_normalization_6 (Batc  (None, 256)              1024      \n",
            " hNormalization)                                                 \n",
            "                                                                 \n",
            " activation_6 (Activation)   (None, 256)               0         \n",
            "                                                                 \n",
            " dropout_6 (Dropout)         (None, 256)               0         \n",
            "                                                                 \n",
            " dense_13 (Dense)            (None, 1)                 257       \n",
            "                                                                 \n",
            "=================================================================\n",
            "Total params: 31,977,857\n",
            "Trainable params: 31,924,225\n",
            "Non-trainable params: 53,632\n",
            "_________________________________________________________________\n"
          ]
        },
        {
          "output_type": "stream",
          "name": "stderr",
          "text": [
            "/usr/local/lib/python3.7/dist-packages/PIL/TiffImagePlugin.py:788: UserWarning: Corrupt EXIF data.  Expecting to read 4 bytes but only got 0. \n",
            "  warnings.warn(str(msg))\n"
          ]
        },
        {
          "output_type": "stream",
          "name": "stdout",
          "text": [
            "Epoch 1/10\n",
            "200/200 [==============================] - 100s 464ms/step - loss: 0.0915 - accuracy: 0.9666 - precision: 0.9621 - recall: 0.9670 - auc: 0.9943 - val_loss: 0.0761 - val_accuracy: 0.9882 - val_precision: 0.9940 - val_recall: 0.9816 - val_auc: 0.9961 - lr: 1.0000e-04\n",
            "Epoch 2/10\n",
            "200/200 [==============================] - 89s 446ms/step - loss: 0.0206 - accuracy: 0.9938 - precision: 0.9945 - recall: 0.9922 - auc: 0.9996 - val_loss: 0.0970 - val_accuracy: 0.9871 - val_precision: 0.9833 - val_recall: 0.9893 - val_auc: 0.9926 - lr: 1.0000e-04\n",
            "Epoch 3/10\n",
            "200/200 [==============================] - 90s 453ms/step - loss: 0.0159 - accuracy: 0.9949 - precision: 0.9941 - recall: 0.9948 - auc: 0.9997 - val_loss: 0.0509 - val_accuracy: 0.9918 - val_precision: 0.9873 - val_recall: 0.9955 - val_auc: 0.9955 - lr: 1.0000e-04\n",
            "Epoch 4/10\n",
            " 29/200 [===>..........................] - ETA: 1:01 - loss: 0.0148 - accuracy: 0.9967 - precision: 1.0000 - recall: 0.9931 - auc: 0.9999"
          ]
        },
        {
          "output_type": "stream",
          "name": "stderr",
          "text": [
            "/usr/local/lib/python3.7/dist-packages/PIL/Image.py:960: UserWarning: Palette images with Transparency expressed in bytes should be converted to RGBA images\n",
            "  \"Palette images with Transparency expressed in bytes should be \"\n"
          ]
        },
        {
          "output_type": "stream",
          "name": "stdout",
          "text": [
            "200/200 [==============================] - 90s 450ms/step - loss: 0.0110 - accuracy: 0.9970 - precision: 0.9980 - recall: 0.9956 - auc: 0.9999 - val_loss: 0.0395 - val_accuracy: 0.9924 - val_precision: 0.9916 - val_recall: 0.9924 - val_auc: 0.9957 - lr: 1.0000e-04\n",
            "Epoch 5/10\n",
            "200/200 [==============================] - 92s 461ms/step - loss: 0.0093 - accuracy: 0.9978 - precision: 0.9973 - recall: 0.9979 - auc: 0.9997 - val_loss: 0.0113 - val_accuracy: 0.9950 - val_precision: 0.9940 - val_recall: 0.9955 - val_auc: 0.9999 - lr: 1.0000e-04\n",
            "Epoch 6/10\n",
            "200/200 [==============================] - 90s 450ms/step - loss: 0.0105 - accuracy: 0.9970 - precision: 0.9972 - recall: 0.9962 - auc: 0.9999 - val_loss: 0.0103 - val_accuracy: 0.9957 - val_precision: 0.9933 - val_recall: 0.9977 - val_auc: 1.0000 - lr: 1.0000e-04\n",
            "Epoch 7/10\n",
            "200/200 [==============================] - 90s 452ms/step - loss: 0.0134 - accuracy: 0.9971 - precision: 0.9962 - recall: 0.9976 - auc: 0.9996 - val_loss: 0.0132 - val_accuracy: 0.9960 - val_precision: 0.9939 - val_recall: 0.9977 - val_auc: 1.0000 - lr: 1.0000e-04\n",
            "Epoch 8/10\n",
            "200/200 [==============================] - 89s 445ms/step - loss: 0.0134 - accuracy: 0.9962 - precision: 0.9959 - recall: 0.9959 - auc: 0.9994 - val_loss: 0.0452 - val_accuracy: 0.9875 - val_precision: 0.9932 - val_recall: 0.9807 - val_auc: 0.9957 - lr: 1.0000e-04\n",
            "Epoch 9/10\n",
            "200/200 [==============================] - ETA: 0s - loss: 0.0194 - accuracy: 0.9951 - precision: 0.9945 - recall: 0.9948 - auc: 0.9993\n",
            "Epoch 9: ReduceLROnPlateau reducing learning rate to 4.999999873689376e-05.\n",
            "200/200 [==============================] - 90s 452ms/step - loss: 0.0194 - accuracy: 0.9951 - precision: 0.9945 - recall: 0.9948 - auc: 0.9993 - val_loss: 0.0204 - val_accuracy: 0.9960 - val_precision: 0.9940 - val_recall: 0.9977 - val_auc: 0.9971 - lr: 1.0000e-04\n",
            "Epoch 10/10\n",
            "200/200 [==============================] - 88s 443ms/step - loss: 0.0056 - accuracy: 0.9986 - precision: 0.9986 - recall: 0.9983 - auc: 1.0000 - val_loss: 0.0173 - val_accuracy: 0.9932 - val_precision: 0.9939 - val_recall: 0.9917 - val_auc: 0.9999 - lr: 5.0000e-05\n",
            "93/93 [==============================] - 9s 96ms/step - loss: 0.0349 - accuracy: 0.9895 - precision: 0.9771 - recall: 1.0000 - auc: 0.9990\n",
            "Accuracy of model on testing data :  98.95482063293457 %\n"
          ]
        },
        {
          "output_type": "display_data",
          "data": {
            "text/plain": [
              "<Figure size 1440x360 with 5 Axes>"
            ],
            "image/png": "[encoded data removed]"
          },
          "metadata": {
            "needs_background": "light"
          }
        },
        {
          "output_type": "stream",
          "name": "stdout",
          "text": [
            "              precision    recall  f1-score   support\n",
            "\n",
            "           0       1.00      0.98      0.99      1645\n",
            "           1       0.98      1.00      0.99      1321\n",
            "\n",
            "    accuracy                           0.99      2966\n",
            "   macro avg       0.99      0.99      0.99      2966\n",
            "weighted avg       0.99      0.99      0.99      2966\n",
            "\n"
          ]
        },
        {
          "output_type": "display_data",
          "data": {
            "text/plain": [
              "<Figure size 720x576 with 2 Axes>"
            ],
            "image/png": "[encoded data removed]"
          },
          "metadata": {
            "needs_background": "light"
          }
        }
      ],
      "source": [
        "resnet50 = tf.keras.applications.resnet.ResNet50(include_top = False, input_shape = (128, 128, 3), weights = 'imagenet', pooling = \"Max\")\n",
        "for layer in resnet50.layers:\n",
        "    layer.trainable=True\n",
        "nodes = 256\n",
        "drop_rate = 0.4\n",
        "activation = 'sigmoid'\n",
        "epochs = 10\n",
        "lr = 0.0001\n",
        "\n",
        "model = CNN(resnet50, nodes, drop_rate, activation, epochs, lr)"
      ]
    },
    {
      "cell_type": "code",
      "execution_count": 44,
      "metadata": {
        "id": "cYF15l2eEt9F"
      },
      "outputs": [],
      "source": [
        "from keras.models import load_model\n",
        "\n",
        "model.save('model_weights.h5')"
      ]
    },
    {
      "cell_type": "code",
      "execution_count": 45,
      "metadata": {
        "id": "MBZOy35MElXG"
      },
      "outputs": [],
      "source": [
        "model_json = model.to_json()\n",
        "with open(\"model.json\",\"w\") as json_file:\n",
        "    json_file.write(model_json)"
      ]
    }
  ],
  "metadata": {
    "accelerator": "GPU",
    "colab": {
      "collapsed_sections": [],
      "provenance": []
    },
    "kernelspec": {
      "display_name": "Python 3",
      "name": "python3"
    },
    "language_info": {
      "name": "python",
      "version": "3.7.9"
    }
  },
  "nbformat": 4,
  "nbformat_minor": 0
}