{
  "cells": [
    {
      "cell_type": "code",
      "execution_count": null,
      "metadata": {
        "colab": {
          "base_uri": "https://localhost:8080/"
        },
        "id": "pNK8q5Sk66j6",
        "outputId": "a42694b8-a781-413f-87be-821600976b7f"
      },
      "outputs": [
        {
          "name": "stdout",
          "output_type": "stream",
          "text": [
            "Looking in indexes: https://pypi.org/simple, https://us-python.pkg.dev/colab-wheels/public/simple/\n",
            "Collecting opendatasets\n",
            "  Downloading opendatasets-0.1.22-py3-none-any.whl (15 kB)\n",
            "Requirement already satisfied: kaggle in /usr/local/lib/python3.7/dist-packages (from opendatasets) (1.5.12)\n",
            "Requirement already satisfied: tqdm in /usr/local/lib/python3.7/dist-packages (from opendatasets) (4.64.1)\n",
            "Requirement already satisfied: click in /usr/local/lib/python3.7/dist-packages (from opendatasets) (7.1.2)\n",
            "Requirement already satisfied: python-slugify in /usr/local/lib/python3.7/dist-packages (from kaggle->opendatasets) (6.1.2)\n",
            "Requirement already satisfied: certifi in /usr/local/lib/python3.7/dist-packages (from kaggle->opendatasets) (2022.9.24)\n",
            "Requirement already satisfied: urllib3 in /usr/local/lib/python3.7/dist-packages (from kaggle->opendatasets) (1.24.3)\n",
            "Requirement already satisfied: python-dateutil in /usr/local/lib/python3.7/dist-packages (from kaggle->opendatasets) (2.8.2)\n",
            "Requirement already satisfied: requests in /usr/local/lib/python3.7/dist-packages (from kaggle->opendatasets) (2.23.0)\n",
            "Requirement already satisfied: six>=1.10 in /usr/local/lib/python3.7/dist-packages (from kaggle->opendatasets) (1.15.0)\n",
            "Requirement already satisfied: text-unidecode>=1.3 in /usr/local/lib/python3.7/dist-packages (from python-slugify->kaggle->opendatasets) (1.3)\n",
            "Requirement already satisfied: chardet<4,>=3.0.2 in /usr/local/lib/python3.7/dist-packages (from requests->kaggle->opendatasets) (3.0.4)\n",
            "Requirement already satisfied: idna<3,>=2.5 in /usr/local/lib/python3.7/dist-packages (from requests->kaggle->opendatasets) (2.10)\n",
            "Installing collected packages: opendatasets\n",
            "Successfully installed opendatasets-0.1.22\n"
          ]
        }
      ],
      "source": [
        "!pip install opendatasets"
      ]
    },
    {
      "cell_type": "code",
      "execution_count": null,
      "metadata": {
        "id": "nRO8uuywLK2N"
      },
      "outputs": [],
      "source": [
        "import pandas as pd\n",
        "import numpy as np\n",
        "import os\n",
        "\n",
        "import matplotlib.pyplot as plt\n",
        "import seaborn as sns\n",
        "\n",
        "import opendatasets as od\n",
        "\n",
        "from keras.preprocessing.image import ImageDataGenerator\n",
        "from keras.layers import Conv2D,Dense, MaxPooling2D,Flatten,Dropout,Activation, BatchNormalization\n",
        "from tensorflow.keras.optimizers import Adam,RMSprop,SGD\n",
        "from keras import regularizers\n",
        "import tensorflow as tf\n",
        "from keras.callbacks import ModelCheckpoint,EarlyStopping,ReduceLROnPlateau\n",
        "import datetime\n",
        "from tensorflow.keras.utils import plot_model"
      ]
    },
    {
      "cell_type": "code",
      "execution_count": null,
      "metadata": {
        "colab": {
          "base_uri": "https://localhost:8080/"
        },
        "id": "OQnktfffmSXf",
        "outputId": "3235845b-f6d9-48a1-bef2-dd4ad9e45b22"
      },
      "outputs": [
        {
          "name": "stdout",
          "output_type": "stream",
          "text": [
            "Please provide your Kaggle credentials to download this dataset. Learn more: http://bit.ly/kaggle-creds\n",
            "Your Kaggle username: tahakoleilat1\n",
            "Your Kaggle Key: ··········\n",
            "Downloading facemask-dataset.zip to dataset1/facemask-dataset\n"
          ]
        },
        {
          "name": "stderr",
          "output_type": "stream",
          "text": [
            "100%|██████████| 114M/114M [00:02<00:00, 49.8MB/s]\n"
          ]
        },
        {
          "name": "stdout",
          "output_type": "stream",
          "text": [
            "\n"
          ]
        }
      ],
      "source": [
        "od.download(\"https://www.kaggle.com/datasets/sumansid/facemask-dataset\",data_dir=\"dataset1\")"
      ]
    },
    {
      "cell_type": "code",
      "execution_count": null,
      "metadata": {
        "colab": {
          "base_uri": "https://localhost:8080/"
        },
        "id": "uBmsT0bap2vY",
        "outputId": "227b2417-a904-4c5c-a0f5-bfe5d199d8e0"
      },
      "outputs": [
        {
          "name": "stdout",
          "output_type": "stream",
          "text": [
            "Please provide your Kaggle credentials to download this dataset. Learn more: http://bit.ly/kaggle-creds\n",
            "Your Kaggle username: tahakoleilat1\n",
            "Your Kaggle Key: ··········\n",
            "Downloading facemask-dataset.zip to dataset2/facemask-dataset\n"
          ]
        },
        {
          "name": "stderr",
          "output_type": "stream",
          "text": [
            "100%|██████████| 50.4M/50.4M [00:00<00:00, 69.8MB/s]\n"
          ]
        },
        {
          "name": "stdout",
          "output_type": "stream",
          "text": [
            "\n"
          ]
        }
      ],
      "source": [
        "od.download(\"https://www.kaggle.com/datasets/ahemateja19bec1025/facemask-dataset\",data_dir=\"dataset2\")"
      ]
    },
    {
      "cell_type": "code",
      "execution_count": null,
      "metadata": {
        "colab": {
          "base_uri": "https://localhost:8080/"
        },
        "id": "5A4H4tKq8T8P",
        "outputId": "61e34e8b-9e4f-4425-f64c-4f14147a4fb9"
      },
      "outputs": [
        {
          "name": "stdout",
          "output_type": "stream",
          "text": [
            "Please provide your Kaggle credentials to download this dataset. Learn more: http://bit.ly/kaggle-creds\n",
            "Your Kaggle username: tahakoleilat1\n",
            "Your Kaggle Key: ··········\n",
            "Downloading facemask.zip to dataset3/facemask\n"
          ]
        },
        {
          "name": "stderr",
          "output_type": "stream",
          "text": [
            "100%|██████████| 137M/137M [00:01<00:00, 83.5MB/s]\n"
          ]
        },
        {
          "name": "stdout",
          "output_type": "stream",
          "text": [
            "\n"
          ]
        }
      ],
      "source": [
        "od.download(\"https://www.kaggle.com/datasets/vinaykudari/facemask\",data_dir=\"dataset3\")"
      ]
    },
    {
      "cell_type": "code",
      "execution_count": null,
      "metadata": {
        "colab": {
          "base_uri": "https://localhost:8080/"
        },
        "id": "4nj2SXLl8okP",
        "outputId": "62424cd9-2b16-4a4a-83a3-090620d10f80"
      },
      "outputs": [
        {
          "name": "stdout",
          "output_type": "stream",
          "text": [
            "Please provide your Kaggle credentials to download this dataset. Learn more: http://bit.ly/kaggle-creds\n",
            "Your Kaggle username: tahakoleilat1\n",
            "Your Kaggle Key: ··········\n",
            "Downloading facemask-detection-dataset-20000-images.zip to dataset4/facemask-detection-dataset-20000-images\n"
          ]
        },
        {
          "name": "stderr",
          "output_type": "stream",
          "text": [
            "100%|██████████| 604M/604M [00:05<00:00, 124MB/s]\n"
          ]
        },
        {
          "name": "stdout",
          "output_type": "stream",
          "text": [
            "\n"
          ]
        }
      ],
      "source": [
        "od.download(\"https://www.kaggle.com/datasets/pranavsingaraju/facemask-detection-dataset-20000-images\",data_dir=\"dataset4\")"
      ]
    },
    {
      "cell_type": "code",
      "execution_count": null,
      "metadata": {
        "colab": {
          "base_uri": "https://localhost:8080/"
        },
        "id": "FvJ-Fx8H8ycf",
        "outputId": "e0a6eb52-0109-4d61-acee-956985715d02"
      },
      "outputs": [
        {
          "name": "stdout",
          "output_type": "stream",
          "text": [
            "Please provide your Kaggle credentials to download this dataset. Learn more: http://bit.ly/kaggle-creds\n",
            "Your Kaggle username: tahakoleilat1\n",
            "Your Kaggle Key: ··········\n",
            "Downloading facemask-dataset.zip to dataset5/facemask-dataset\n"
          ]
        },
        {
          "name": "stderr",
          "output_type": "stream",
          "text": [
            "100%|██████████| 1.26G/1.26G [00:14<00:00, 94.0MB/s]\n"
          ]
        },
        {
          "name": "stdout",
          "output_type": "stream",
          "text": [
            "\n"
          ]
        }
      ],
      "source": [
        "od.download(\"https://www.kaggle.com/datasets/ashiqurrahmantanzil/facemask-dataset\",data_dir=\"dataset5\")"
      ]
    },
    {
      "cell_type": "code",
      "execution_count": null,
      "metadata": {
        "colab": {
          "base_uri": "https://localhost:8080/"
        },
        "id": "YfhqXRhYi4wS",
        "outputId": "c7904078-72dc-49bb-c7cd-916fd1fe866b"
      },
      "outputs": [
        {
          "name": "stdout",
          "output_type": "stream",
          "text": [
            "Skipping, found downloaded files in \"dataset6/face-mask-dataset\" (use force=True to force download)\n"
          ]
        }
      ],
      "source": [
        "od.download(\"https://www.kaggle.com/datasets/shiekhburhan/face-mask-dataset\",data_dir=\"dataset6\")"
      ]
    },
    {
      "cell_type": "code",
      "execution_count": null,
      "metadata": {
        "colab": {
          "base_uri": "https://localhost:8080/"
        },
        "id": "SSYwEINHSvfL",
        "outputId": "54568a9b-62a5-474b-fdfa-0fd9df8079d5"
      },
      "outputs": [
        {
          "name": "stdout",
          "output_type": "stream",
          "text": [
            "Please provide your Kaggle credentials to download this dataset. Learn more: http://bit.ly/kaggle-creds\n",
            "Your Kaggle username: tahakoleilat1\n",
            "Your Kaggle Key: ··········\n",
            "Downloading face-mask-12k-images-dataset.zip to dataset7/face-mask-12k-images-dataset\n"
          ]
        },
        {
          "name": "stderr",
          "output_type": "stream",
          "text": [
            "100%|██████████| 330M/330M [00:01<00:00, 230MB/s]\n"
          ]
        },
        {
          "name": "stdout",
          "output_type": "stream",
          "text": [
            "\n"
          ]
        }
      ],
      "source": [
        "od.download(\"https://www.kaggle.com/datasets/ashishjangra27/face-mask-12k-images-dataset\", data_dir = \"dataset7\")"
      ]
    },
    {
      "cell_type": "code",
      "execution_count": null,
      "metadata": {
        "colab": {
          "base_uri": "https://localhost:8080/"
        },
        "id": "NfMJ5N4U2vvy",
        "outputId": "38f982f7-85b5-4ae9-f87e-8d16d3a850b9"
      },
      "outputs": [
        {
          "name": "stdout",
          "output_type": "stream",
          "text": [
            "Please provide your Kaggle credentials to download this dataset. Learn more: http://bit.ly/kaggle-creds\n",
            "Your Kaggle username: tahakoleilat1\n",
            "Your Kaggle Key: ··········\n",
            "Downloading face-mask-detectormask-not-mask-incorrect-mask.zip to dataset8/face-mask-detectormask-not-mask-incorrect-mask\n"
          ]
        },
        {
          "name": "stderr",
          "output_type": "stream",
          "text": [
            "100%|██████████| 190M/190M [00:02<00:00, 98.9MB/s]\n"
          ]
        },
        {
          "name": "stdout",
          "output_type": "stream",
          "text": [
            "\n"
          ]
        }
      ],
      "source": [
        "od.download(\"https://www.kaggle.com/datasets/spandanpatnaik09/face-mask-detectormask-not-mask-incorrect-mask\",data_dir = \"dataset8\")"
      ]
    },
    {
      "cell_type": "code",
      "execution_count": null,
      "metadata": {
        "id": "KBSm_7rB3YAi"
      },
      "outputs": [],
      "source": [
        "# od.download(\"https://www.kaggle.com/datasets/ashwingupta3012/human-faces\",data_dir = \"dataset9\")"
      ]
    },
    {
      "cell_type": "code",
      "execution_count": null,
      "metadata": {
        "colab": {
          "base_uri": "https://localhost:8080/"
        },
        "id": "hio6l2gvhKeh",
        "outputId": "8b3f658f-6826-45f5-db38-54fb7a92c592"
      },
      "outputs": [
        {
          "name": "stdout",
          "output_type": "stream",
          "text": [
            "Looking in indexes: https://pypi.org/simple, https://us-python.pkg.dev/colab-wheels/public/simple/\n",
            "Collecting split-folders\n",
            "  Downloading split_folders-0.5.1-py3-none-any.whl (8.4 kB)\n",
            "Installing collected packages: split-folders\n",
            "Successfully installed split-folders-0.5.1\n"
          ]
        }
      ],
      "source": [
        "!pip install split-folders"
      ]
    },
    {
      "cell_type": "code",
      "execution_count": null,
      "metadata": {
        "id": "vm_dZhBxhNLt"
      },
      "outputs": [],
      "source": [
        "import splitfolders"
      ]
    },
    {
      "cell_type": "code",
      "execution_count": null,
      "metadata": {
        "id": "u_ISPcnmnJzq"
      },
      "outputs": [],
      "source": [
        "import shutil"
      ]
    },
    {
      "cell_type": "code",
      "execution_count": null,
      "metadata": {
        "id": "6cHyY9L332Xa"
      },
      "outputs": [],
      "source": [
        "!mkdir CompleteDataset"
      ]
    },
    {
      "cell_type": "code",
      "execution_count": null,
      "metadata": {
        "id": "DpFb8Id6358C"
      },
      "outputs": [],
      "source": [
        "!mkdir '/content/CompleteDataset/Mask'"
      ]
    },
    {
      "cell_type": "code",
      "execution_count": null,
      "metadata": {
        "id": "Inu-lQhP4DAi"
      },
      "outputs": [],
      "source": [
        "!mkdir '/content/CompleteDataset/No Mask'"
      ]
    },
    {
      "cell_type": "code",
      "execution_count": null,
      "metadata": {
        "id": "IxPg9pI_s4Gt"
      },
      "outputs": [],
      "source": [
        "content_list = os.listdir('/content/dataset1/facemask-dataset/Mask')\n",
        "for sub_dir in content_list:\n",
        "  \n",
        "    # loop through the contents of the\n",
        "    # list of folders\n",
        "    for contents in os.listdir(os.path.join('/content/dataset1/facemask-dataset/Mask',sub_dir)):\n",
        "  \n",
        "        # make the path of the content to move \n",
        "        path_to_content = sub_dir + \"/\" + contents  \n",
        "  \n",
        "        # make the path with the current folder\n",
        "        dir_to_move = os.path.join('/content/dataset1/facemask-dataset/Mask',path_to_content)\n",
        "  \n",
        "        # move the file\n",
        "        shutil.move(dir_to_move,'/content/CompleteDataset/Mask')"
      ]
    },
    {
      "cell_type": "code",
      "execution_count": null,
      "metadata": {
        "id": "w0Z-3y95s4tN"
      },
      "outputs": [],
      "source": [
        "content_list = os.listdir('/content/dataset1/facemask-dataset/No Mask')\n",
        "for sub_dir in content_list:\n",
        "  \n",
        "    # loop through the contents of the\n",
        "    # list of folders\n",
        "    for contents in os.listdir(os.path.join('/content/dataset1/facemask-dataset/No Mask',sub_dir)):\n",
        "  \n",
        "        # make the path of the content to move \n",
        "        path_to_content = sub_dir + \"/\" + contents  \n",
        "  \n",
        "        # make the path with the current folder\n",
        "        dir_to_move = os.path.join('/content/dataset1/facemask-dataset/No Mask',path_to_content)\n",
        "  \n",
        "        # move the file\n",
        "        shutil.move(dir_to_move,'/content/CompleteDataset/No Mask')"
      ]
    },
    {
      "cell_type": "code",
      "execution_count": null,
      "metadata": {
        "id": "xsS6pc-bQt8i"
      },
      "outputs": [],
      "source": [
        "content_list = os.listdir('/content/dataset2/facemask-dataset/dataset/dataset')\n",
        "for sub_dir in content_list:\n",
        "  \n",
        "    # loop through the contents of the\n",
        "    # list of folders\n",
        "    for contents in os.listdir(os.path.join('/content/dataset2/facemask-dataset/dataset/dataset',sub_dir)):\n",
        "  \n",
        "        # make the path of the content to move \n",
        "        path_to_content = sub_dir + \"/\" + contents  \n",
        "  \n",
        "        # make the path with the current folder\n",
        "        dir_to_move = os.path.join('/content/dataset2/facemask-dataset/dataset/dataset',path_to_content)\n",
        "  \n",
        "        # move the file\n",
        "        if(sub_dir == \"1\"):\n",
        "          shutil.move(dir_to_move,'/content/CompleteDataset/No Mask')\n",
        "        else:\n",
        "          shutil.move(dir_to_move,'/content/CompleteDataset/Mask')"
      ]
    },
    {
      "cell_type": "code",
      "execution_count": null,
      "metadata": {
        "id": "j-g2fuQkRwWK"
      },
      "outputs": [],
      "source": [
        "content_list = os.listdir('/content/dataset3/facemask/train')\n",
        "for sub_dir in content_list:\n",
        "  \n",
        "    # loop through the contents of the\n",
        "    # list of folders\n",
        "    for contents in os.listdir(os.path.join('/content/dataset3/facemask/train',sub_dir)):\n",
        "  \n",
        "        # make the path of the content to move \n",
        "        path_to_content = sub_dir + \"/\" + contents  \n",
        "  \n",
        "        # make the path with the current folder\n",
        "        dir_to_move = os.path.join('/content/dataset3/facemask/train',path_to_content)\n",
        "  \n",
        "        # move the file\n",
        "        if(sub_dir == \"without_mask\"):\n",
        "          shutil.move(dir_to_move,'/content/CompleteDataset/No Mask')\n",
        "        elif(sub_dir == \"with_mask\"):\n",
        "          shutil.move(dir_to_move,'/content/CompleteDataset/Mask')\n",
        "        elif(sub_dir == \"mask_weared_incorrect\"):\n",
        "          shutil.move(dir_to_move,'/content/CompleteDataset/No Mask')"
      ]
    },
    {
      "cell_type": "code",
      "execution_count": null,
      "metadata": {
        "id": "FEolfODOR9-i"
      },
      "outputs": [],
      "source": [
        "content_list = os.listdir('/content/dataset4/facemask-detection-dataset-20000-images')\n",
        "for sub_dir in content_list:\n",
        "  \n",
        "    # loop through the contents of the\n",
        "    # list of folders\n",
        "    for contents in os.listdir(os.path.join('/content/dataset4/facemask-detection-dataset-20000-images',sub_dir)):\n",
        "  \n",
        "        # make the path of the content to move \n",
        "        path_to_content = sub_dir + \"/\" + contents  \n",
        "  \n",
        "        # make the path with the current folder\n",
        "        dir_to_move = os.path.join('/content/dataset4/facemask-detection-dataset-20000-images',path_to_content)\n",
        "  \n",
        "        # move the file\n",
        "        if(sub_dir == \"new_without_mask\"):\n",
        "          shutil.move(dir_to_move,'/content/CompleteDataset/No Mask')\n",
        "        elif(sub_dir == \"new_with_mask\"):\n",
        "          shutil.move(dir_to_move,'/content/CompleteDataset/Mask')"
      ]
    },
    {
      "cell_type": "code",
      "execution_count": null,
      "metadata": {
        "id": "muipVpwcSFLT"
      },
      "outputs": [],
      "source": [
        "content_list = os.listdir('/content/dataset5/facemask-dataset/dataset_final')\n",
        "for sub_dir in content_list:\n",
        "  \n",
        "    # loop through the contents of the\n",
        "    # list of folders\n",
        "    for contents in os.listdir(os.path.join('/content/dataset5/facemask-dataset/dataset_final',sub_dir)):\n",
        "  \n",
        "        # make the path of the content to move \n",
        "        path_to_content = sub_dir + \"/\" + contents  \n",
        "  \n",
        "        # make the path with the current folder\n",
        "        dir_to_move = os.path.join('/content/dataset5/facemask-dataset/dataset_final',path_to_content)\n",
        "  \n",
        "        # move the file\n",
        "        if(sub_dir == \"without_mask\"):\n",
        "          shutil.move(dir_to_move,'/content/CompleteDataset/No Mask')\n",
        "        elif(sub_dir == \"with_mask\"):\n",
        "          shutil.move(dir_to_move,'/content/CompleteDataset/Mask')"
      ]
    },
    {
      "cell_type": "code",
      "execution_count": null,
      "metadata": {
        "id": "midRaZrXSMLB"
      },
      "outputs": [],
      "source": [
        "content_list = os.listdir('/content/dataset6/face-mask-dataset/FMD_DATASET/with_mask')\n",
        "for sub_dir in content_list:\n",
        "  \n",
        "    # loop through the contents of the\n",
        "    # list of folders\n",
        "    for contents in os.listdir(os.path.join('/content/dataset6/face-mask-dataset/FMD_DATASET/with_mask',sub_dir)):\n",
        "  \n",
        "        # make the path of the content to move \n",
        "        path_to_content = sub_dir + \"/\" + contents  \n",
        "  \n",
        "        # make the path with the current folder\n",
        "        dir_to_move = os.path.join('/content/dataset6/face-mask-dataset/FMD_DATASET/with_mask',path_to_content)\n",
        "  \n",
        "        # move the file\n",
        "        shutil.move(dir_to_move,'/content/CompleteDataset/Mask')"
      ]
    },
    {
      "cell_type": "code",
      "execution_count": null,
      "metadata": {
        "id": "HspTLr_ySWUS"
      },
      "outputs": [],
      "source": [
        "content_list = os.listdir('/content/dataset6/face-mask-dataset/FMD_DATASET/without_mask')\n",
        "for sub_dir in content_list:\n",
        "  \n",
        "    # loop through the contents of the\n",
        "    # list of folders\n",
        "    for contents in os.listdir(os.path.join('/content/dataset6/face-mask-dataset/FMD_DATASET/without_mask',sub_dir)):\n",
        "  \n",
        "        # make the path of the content to move \n",
        "        path_to_content = sub_dir + \"/\" + contents  \n",
        "  \n",
        "        # make the path with the current folder\n",
        "        dir_to_move = os.path.join('/content/dataset6/face-mask-dataset/FMD_DATASET/without_mask',path_to_content)\n",
        "  \n",
        "        # move the file\n",
        "        shutil.move(dir_to_move,'/content/CompleteDataset/No Mask')"
      ]
    },
    {
      "cell_type": "code",
      "execution_count": null,
      "metadata": {
        "id": "nMMNlEys4ggD"
      },
      "outputs": [],
      "source": [
        "content_list = os.listdir('/content/dataset6/face-mask-dataset/FMD_DATASET/incorrect_mask')\n",
        "for sub_dir in content_list:\n",
        "  \n",
        "    # loop through the contents of the\n",
        "    # list of folders\n",
        "    for contents in os.listdir(os.path.join('/content/dataset6/face-mask-dataset/FMD_DATASET/incorrect_mask',sub_dir)):\n",
        "        os.rename(os.path.join('/content/dataset6/face-mask-dataset/FMD_DATASET/incorrect_mask',sub_dir,contents), os.path.join('/content/dataset6/face-mask-dataset/FMD_DATASET/incorrect_mask',sub_dir,\"Dataset6INCORRECT\"+contents))\n",
        "        contents = \"Dataset6INCORRECT\" + contents\n",
        "        # make the path of the content to move \n",
        "        path_to_content = sub_dir + \"/\" + contents  \n",
        "  \n",
        "        # make the path with the current folder\n",
        "        dir_to_move = os.path.join('/content/dataset6/face-mask-dataset/FMD_DATASET/incorrect_mask',path_to_content)\n",
        "  \n",
        "        # move the file\n",
        "        shutil.move(dir_to_move,'/content/CompleteDataset/No Mask')"
      ]
    },
    {
      "cell_type": "code",
      "execution_count": null,
      "metadata": {
        "id": "ZsiViAx045PZ"
      },
      "outputs": [],
      "source": [
        "# content_list = os.listdir('/content/dataset9/human-faces')\n",
        "# for sub_dir in content_list:\n",
        "  \n",
        "#     # loop through the contents of the\n",
        "#     # list of folders\n",
        "#     for contents in os.listdir(os.path.join('/content/dataset9/human-faces',sub_dir)):\n",
        "  \n",
        "#         # make the path of the content to move \n",
        "#         path_to_content = sub_dir + \"/\" + contents  \n",
        "  \n",
        "#         # make the path with the current folder\n",
        "#         dir_to_move = os.path.join('/content/dataset9/human-faces',path_to_content)\n",
        "  \n",
        "#         # move the file\n",
        "#         shutil.move(dir_to_move,'/content/CompleteDataset/No Mask')"
      ]
    },
    {
      "cell_type": "code",
      "execution_count": null,
      "metadata": {
        "id": "9NSAJnxfgPl6"
      },
      "outputs": [],
      "source": [
        "#Save zip files from https://github.com/cabani/MaskedFace-Net in your Google Drive"
      ]
    },
    {
      "cell_type": "code",
      "execution_count": null,
      "metadata": {
        "colab": {
          "base_uri": "https://localhost:8080/"
        },
        "id": "Q6zpyrwSZzMb",
        "outputId": "97a9c609-ef81-4713-8354-a493e2733747"
      },
      "outputs": [
        {
          "name": "stdout",
          "output_type": "stream",
          "text": [
            "Mounted at /content/drive\n"
          ]
        }
      ],
      "source": [
        "!mkdir dataset10\n",
        "import zipfile\n",
        "from google.colab import drive\n",
        "drive.mount('/content/drive')\n",
        "zip_ref = zipfile.ZipFile('/content/drive/MyDrive/CMFD.zip', 'r')\n",
        "zip_ref.extractall('/content/dataset10/Mask')\n",
        "zip_ref.close()\n",
        "zip_ref = zipfile.ZipFile('/content/drive/MyDrive/IMFD.zip', 'r')\n",
        "zip_ref.extractall('/content/dataset10/No Mask')\n",
        "zip_ref.close()"
      ]
    },
    {
      "cell_type": "code",
      "execution_count": null,
      "metadata": {
        "id": "sMM8844iaM9C"
      },
      "outputs": [],
      "source": [
        "sub_dir_list = os.listdir('/content/dataset10')\n",
        "for sub_dir in sub_dir_list:\n",
        "    sub_sub_dir_list = os.listdir(os.path.join('/content/dataset10',sub_dir))\n",
        "    for sub_sub_dir in sub_sub_dir_list:\n",
        "    # loop through the contents of the\n",
        "    # list of folders\n",
        "      for contents in os.listdir(os.path.join('/content/dataset10',sub_dir,sub_sub_dir)):\n",
        "        os.rename(os.path.join('/content/dataset10',sub_dir,sub_sub_dir,contents), os.path.join('/content/dataset10',sub_dir,sub_sub_dir,\"Dataset10\"+contents))\n",
        "        contents = \"Dataset10\" + contents\n",
        "        # make the path of the content to move \n",
        "        path_to_content = sub_dir + '/' + sub_sub_dir + '/' + contents\n",
        "\n",
        "        # make the path with the current folder\n",
        "        dir_to_move = os.path.join('/content/dataset10/',path_to_content)\n",
        "        \n",
        "\n",
        "        # move the file\n",
        "        if(sub_dir == \"Mask\"):\n",
        "            shutil.move(dir_to_move,'/content/CompleteDataset/Mask')\n",
        "        elif(sub_dir == \"No Mask\"):\n",
        "            shutil.move(dir_to_move,'/content/CompleteDataset/No Mask')"
      ]
    },
    {
      "cell_type": "code",
      "execution_count": null,
      "metadata": {
        "id": "yS9yRp8hrstT"
      },
      "outputs": [],
      "source": [
        "!rm -rf \"/content/dataset1\"\n",
        "!rm -rf \"/content/dataset2\"\n",
        "!rm -rf \"/content/dataset3\"\n",
        "!rm -rf \"/content/dataset4\"\n",
        "!rm -rf \"/content/dataset5\"\n",
        "!rm -rf \"/content/dataset6\"\n",
        "!rm -rf \"/content/dataset8\"\n",
        "!rm -rf \"/content/dataset10\""
      ]
    },
    {
      "cell_type": "code",
      "execution_count": null,
      "metadata": {
        "id": "mkZcuuzArsHR"
      },
      "outputs": [],
      "source": [
        "zip_ref = zipfile.ZipFile('/content/drive/MyDrive/IMFD1.zip', 'r')\n",
        "zip_ref.extractall('/content/dataset11/No Mask')\n",
        "zip_ref.close()\n",
        "# zip_ref = zipfile.ZipFile('/content/drive/MyDrive/CMFD1.zip', 'r')\n",
        "# zip_ref.extractall('/content/dataset11/Mask')\n",
        "# zip_ref.close()"
      ]
    },
    {
      "cell_type": "code",
      "execution_count": null,
      "metadata": {
        "id": "HhB4emIIsFNa"
      },
      "outputs": [],
      "source": [
        "sub_dir_list = os.listdir('/content/dataset11')\n",
        "for sub_dir in sub_dir_list:\n",
        "    sub_sub_dir_list = os.listdir(os.path.join('/content/dataset11',sub_dir))\n",
        "    for sub_sub_dir in sub_sub_dir_list:\n",
        "    # loop through the contents of the\n",
        "    # list of folders\n",
        "      for contents in os.listdir(os.path.join('/content/dataset11',sub_dir,sub_sub_dir)):\n",
        "        os.rename(os.path.join('/content/dataset11',sub_dir,sub_sub_dir,contents), os.path.join('/content/dataset11',sub_dir,sub_sub_dir,\"Dataset11\"+contents))\n",
        "        contents = \"Dataset11\" + contents\n",
        "        # make the path of the content to move \n",
        "        path_to_content = sub_dir + '/' + sub_sub_dir + '/' + contents\n",
        "\n",
        "        # make the path with the current folder\n",
        "        dir_to_move = os.path.join('/content/dataset11/',path_to_content)\n",
        "        \n",
        "\n",
        "        # move the file\n",
        "        if(sub_dir == \"Mask\"):\n",
        "            shutil.move(dir_to_move,'/content/CompleteDataset/Mask')\n",
        "        elif(sub_dir == \"No Mask\"):\n",
        "            shutil.move(dir_to_move,'/content/CompleteDataset/No Mask')"
      ]
    },
    {
      "cell_type": "code",
      "execution_count": null,
      "metadata": {
        "id": "j-Fz7yq-tHbp"
      },
      "outputs": [],
      "source": [
        "!rm -rf \"/content/dataset11\""
      ]
    },
    {
      "cell_type": "code",
      "execution_count": null,
      "metadata": {
        "colab": {
          "base_uri": "https://localhost:8080/"
        },
        "id": "U6R4QsdE7FSy",
        "outputId": "160f7ffb-0d18-427f-e1d5-846c8398ba4c"
      },
      "outputs": [
        {
          "name": "stderr",
          "output_type": "stream",
          "text": [
            "Copying files: 152278 files [00:10, 14943.31 files/s]\n"
          ]
        }
      ],
      "source": [
        "splitfolders.ratio('/content/CompleteDataset', output=\"/content/CompleteDatasetNew\", ratio=(0.8, 0.1,0.1), move= True)"
      ]
    },
    {
      "cell_type": "code",
      "execution_count": null,
      "metadata": {
        "id": "Epm6mSj8S8CR"
      },
      "outputs": [],
      "source": [
        "sub_dir_list = os.listdir('/content/dataset7/face-mask-12k-images-dataset/Face Mask Dataset')\n",
        "for sub_dir in sub_dir_list:\n",
        "    sub_sub_dir_list = os.listdir(os.path.join('/content/dataset7/face-mask-12k-images-dataset/Face Mask Dataset',sub_dir))\n",
        "    for sub_sub_dir in sub_sub_dir_list:\n",
        "    # loop through the contents of the\n",
        "    # list of folders\n",
        "      for contents in os.listdir(os.path.join('/content/dataset7/face-mask-12k-images-dataset/Face Mask Dataset',sub_dir,sub_sub_dir)):\n",
        "        os.rename(os.path.join('/content/dataset7/face-mask-12k-images-dataset/Face Mask Dataset',sub_dir,sub_sub_dir,contents), os.path.join('/content/dataset7/face-mask-12k-images-dataset/Face Mask Dataset',sub_dir,sub_sub_dir,\"Dataset7\"+contents))\n",
        "        contents = \"Dataset7\" + contents\n",
        "        # make the path of the content to move \n",
        "        path_to_content = sub_dir + '/' + sub_sub_dir + '/' + contents\n",
        "\n",
        "        # make the path with the current folder\n",
        "        dir_to_move = os.path.join('/content/dataset7/face-mask-12k-images-dataset/Face Mask Dataset/',path_to_content)\n",
        "        \n",
        "\n",
        "        # move the file\n",
        "        if(sub_dir == \"Test\"):\n",
        "          if(sub_sub_dir == \"WithMask\"):\n",
        "            shutil.move(dir_to_move,'/content/CompleteDatasetNew/test/Mask')\n",
        "          else:\n",
        "            shutil.move(dir_to_move,'/content/CompleteDatasetNew/test/No Mask')\n",
        "        elif(sub_dir == \"Train\"):\n",
        "          if(sub_sub_dir == \"WithMask\"):\n",
        "            shutil.move(dir_to_move,'/content/CompleteDatasetNew/train/Mask')\n",
        "          else:\n",
        "            shutil.move(dir_to_move,'/content/CompleteDatasetNew/train/No Mask')\n",
        "        if(sub_dir == \"Validation\"):\n",
        "          if(sub_sub_dir == \"WithMask\"):\n",
        "            shutil.move(dir_to_move,'/content/CompleteDatasetNew/val/Mask')\n",
        "          else:\n",
        "            shutil.move(dir_to_move,'/content/CompleteDatasetNew/val/No Mask')"
      ]
    },
    {
      "cell_type": "code",
      "execution_count": null,
      "metadata": {
        "id": "Qfv_2mlHnwEq"
      },
      "outputs": [],
      "source": [
        "!rm -rf \"/content/dataset7\""
      ]
    },
    {
      "cell_type": "code",
      "execution_count": null,
      "metadata": {
        "id": "QGrg4JrcOrR4"
      },
      "outputs": [],
      "source": [
        "train_datagen = ImageDataGenerator(preprocessing_function=tf.keras.applications.mobilenet_v2.preprocess_input,rotation_range=2,\n",
        "        width_shift_range=0.2,\n",
        "        height_shift_range=0.2,\n",
        "        shear_range=0.2,\n",
        "        zoom_range=0.2,\n",
        "        fill_mode='nearest')"
      ]
    },
    {
      "cell_type": "code",
      "execution_count": null,
      "metadata": {
        "id": "fBHSpZu4krXX"
      },
      "outputs": [],
      "source": [
        "valid_datagen = ImageDataGenerator(preprocessing_function=tf.keras.applications.mobilenet_v2.preprocess_input)"
      ]
    },
    {
      "cell_type": "code",
      "execution_count": null,
      "metadata": {
        "colab": {
          "base_uri": "https://localhost:8080/"
        },
        "id": "Cn1LAOS6-gZx",
        "outputId": "e447d3f1-80de-4db5-cc30-7521662adfa3"
      },
      "outputs": [
        {
          "name": "stdout",
          "output_type": "stream",
          "text": [
            "Found 131820 images belonging to 2 classes.\n",
            "Found 16027 images belonging to 2 classes.\n",
            "Found 16221 images belonging to 2 classes.\n"
          ]
        }
      ],
      "source": [
        "training_set  = train_datagen.flow_from_directory(directory = '/content/CompleteDatasetNew/train',\n",
        "                                                   class_mode = 'binary',\n",
        "                                                   color_mode=\"rgb\",\n",
        "                                                     target_size = (224,224),\n",
        "                                                   classes={'No Mask': 0,'Mask': 1})\n",
        "valid_set  = valid_datagen.flow_from_directory(directory = '/content/CompleteDatasetNew/val',\n",
        "                                                   class_mode = 'binary',\n",
        "                                                   color_mode=\"rgb\",\n",
        "                                                     target_size = (224,224),\n",
        "                                                   classes={'No Mask': 0,'Mask': 1})\n",
        "test_set  = valid_datagen.flow_from_directory(directory = '/content/CompleteDatasetNew/test',\n",
        "                                                   class_mode = 'binary',\n",
        "                                                   color_mode=\"rgb\",\n",
        "                                                    shuffle=False,\n",
        "                                                    target_size = (224,224),\n",
        "                                                   classes={'No Mask': 0,'Mask': 1})"
      ]
    },
    {
      "cell_type": "code",
      "execution_count": null,
      "metadata": {
        "id": "w1WTW0Q_DcwJ"
      },
      "outputs": [],
      "source": [
        "import numpy as np \n",
        "import pandas as pd\n",
        "\n",
        "\n",
        "import seaborn as sn\n",
        "from tensorflow import keras\n",
        "from sklearn.metrics import confusion_matrix, classification_report\n",
        "from keras.models import Sequential\n",
        "from keras.layers import Dense, Dropout, GlobalMaxPooling2D, GlobalAveragePooling2D, Conv2D, MaxPooling2D, BatchNormalization, Flatten\n",
        "from keras.preprocessing.image import ImageDataGenerator\n",
        "import matplotlib.pyplot as plt\n",
        "\n",
        "def build_model(MobileNet, nodes1, nodes2, nodes3, drop_rate, activation):\n",
        "    return Sequential([\n",
        "        MobileNet,\n",
        "        GlobalMaxPooling2D(),\n",
        "        Dense(nodes1,kernel_initializer='he_uniform'),\n",
        "        Activation('relu'),\n",
        "        Dropout(drop_rate),\n",
        "        Dense(nodes2,kernel_initializer='he_uniform'),\n",
        "        Activation('relu'),\n",
        "        Dropout(drop_rate),\n",
        "        Dense(nodes2,kernel_initializer='he_uniform'),\n",
        "        Activation('relu'),\n",
        "        Dropout(drop_rate),\n",
        "        Dense(1,activation='sigmoid')\n",
        "    ])\n",
        "def train_model(model, epochs, learning_rate):\n",
        "   checkpoint_filepath = '/tmp/checkpointNew'\n",
        "   earlyStopping = tf.keras.callbacks.EarlyStopping(\n",
        "        patience=5,\n",
        "        monitor=\"val_accuracy\",\n",
        "        verbose=1,)\n",
        "   model_checkpoint_callback = tf.keras.callbacks.ModelCheckpoint(\n",
        "       filepath=checkpoint_filepath,\n",
        "    save_weights_only=True,\n",
        "    monitor='val_accuracy',\n",
        "    mode='max',\n",
        "    save_best_only=True,\n",
        "    save_freq=\"epoch\")\n",
        "   lrd = tf.keras.callbacks.ReduceLROnPlateau(monitor = 'val_loss',patience = 3,verbose = 1,factor = 0.50, min_lr = 1e-10)\n",
        "   adam = keras.optimizers.Adam(learning_rate=learning_rate)\n",
        "   METRICS = [\n",
        "      tf.keras.metrics.BinaryAccuracy(name='accuracy'),\n",
        "      tf.keras.metrics.Precision(name='precision'),\n",
        "      tf.keras.metrics.Recall(name='recall'),  \n",
        "      tf.keras.metrics.AUC(name='auc'),\n",
        "]\n",
        "   model.compile(optimizer=adam, loss='binary_crossentropy', metrics=METRICS)\n",
        "   history = model.fit(training_set, validation_data = valid_set,validation_steps = 100, batch_size = 512, steps_per_epoch= 200,  epochs = epochs,\n",
        "                        callbacks=[model_checkpoint_callback,lrd])\n",
        "   return history\n",
        "def plot_metrics(model, history, test):\n",
        "    print(\"Accuracy of model on testing data : \" , model.evaluate(test_set)[1]*100 , \"%\")\n",
        "    fig, (ax1, ax2,ax3,ax4,ax5) = plt.subplots(1,5, figsize= (20,5))\n",
        "    fig.suptitle(\" Metrics evaluation of the model \")\n",
        "\n",
        "    ax1.plot(range(1, len(history.history['accuracy']) + 1), history.history['accuracy'])\n",
        "    ax1.plot(range(1, len(history.history['val_accuracy']) + 1), history.history['val_accuracy'])\n",
        "    ax1.set_title('History of Accuracy')\n",
        "    ax1.set_xlabel('Epochs')\n",
        "    ax1.set_ylabel('Accuracy')\n",
        "    ax1.legend(['training', 'validation'])\n",
        "\n",
        "\n",
        "    ax2.plot(range(1, len(history.history['loss']) + 1), history.history['loss'])\n",
        "    ax2.plot(range(1, len(history.history['val_loss']) + 1), history.history['val_loss'])\n",
        "    ax2.set_title('History of Loss')\n",
        "    ax2.set_xlabel('Epochs')\n",
        "    ax2.set_ylabel('Loss')\n",
        "    ax2.legend(['training', 'validation'])\n",
        "    \n",
        "    ax3.plot(range(1, len(history.history['auc']) + 1), history.history['auc'])\n",
        "    ax3.plot(range(1, len(history.history['val_auc']) + 1), history.history['val_auc'])\n",
        "    ax3.set_title('History of AUC')\n",
        "    ax3.set_xlabel('Epochs')\n",
        "    ax3.set_ylabel('AUC')\n",
        "    ax3.legend(['training', 'validation'])\n",
        "    \n",
        "    ax4.plot(range(1, len(history.history['precision']) + 1), history.history['precision'])\n",
        "    ax4.plot(range(1, len(history.history['val_precision']) + 1), history.history['val_precision'])\n",
        "    ax4.set_title('History of Precision')\n",
        "    ax4.set_xlabel('Epochs')\n",
        "    ax4.set_ylabel('Precision')\n",
        "    ax4.legend(['training', 'validation'])\n",
        "\n",
        "    ax5.plot(range(1, len(history.history['recall']) + 1), history.history['recall'])\n",
        "    ax5.plot(range(1, len(history.history['val_recall']) + 1), history.history['val_recall'])\n",
        "    ax5.set_title('History of Recall')\n",
        "    ax5.set_xlabel('Epochs')\n",
        "    ax5.set_ylabel('Recall')\n",
        "    ax5.legend(['training', 'validation'])\n",
        "    plt.show()\n",
        "def test_model(model, test_set):\n",
        "    y_pred = model.predict(test_set)\n",
        "    y_result = []\n",
        "    for p in y_pred:\n",
        "        y_result.append(int(p >= 0.5))\n",
        "    \n",
        "    y_actual = []\n",
        "    for i in range(len(test_set)):\n",
        "        for p in test_set[i][1]:\n",
        "            y_actual.append(int(p >= 0.5))\n",
        "    \n",
        "    print(classification_report(y_actual, y_result))\n",
        "    \n",
        "    cm = tf.math.confusion_matrix(labels = y_actual, predictions = y_result)\n",
        "\n",
        "    plt.figure(figsize = (10, 8))\n",
        "    sn.heatmap(cm, annot = True, fmt = 'd')\n",
        "    plt.xlabel('Predicted')\n",
        "    plt.ylabel('Truth')\n",
        "def CNN(MobileNet, dense_nodes1,dense_nodes2,dense_nodes3, drop, activation, epochs, lr):\n",
        "    model = build_model(MobileNet, dense_nodes1,dense_nodes2,dense_nodes3, drop, activation)\n",
        "    model.summary()\n",
        "    \n",
        "    history = train_model(model, epochs, lr)\n",
        "    \n",
        "    plot_metrics(model, history, test_set)\n",
        "    \n",
        "    test_model(model, test_set)\n",
        "    return model\n"
      ]
    },
    {
      "cell_type": "code",
      "execution_count": null,
      "metadata": {
        "colab": {
          "base_uri": "https://localhost:8080/",
          "height": 1000
        },
        "id": "ihdpCdXWfZEi",
        "outputId": "3deb8516-09e7-46b3-81e9-6502c19acff6"
      },
      "outputs": [
        {
          "name": "stdout",
          "output_type": "stream",
          "text": [
            "Downloading data from https://storage.googleapis.com/tensorflow/keras-applications/mobilenet_v2/mobilenet_v2_weights_tf_dim_ordering_tf_kernels_1.0_224_no_top.h5\n",
            "9412608/9406464 [==============================] - 0s 0us/step\n",
            "9420800/9406464 [==============================] - 0s 0us/step\n",
            "Model: \"sequential\"\n",
            "_________________________________________________________________\n",
            " Layer (type)                Output Shape              Param #   \n",
            "=================================================================\n",
            " mobilenetv2_1.00_224 (Funct  (None, 7, 7, 1280)       2257984   \n",
            " ional)                                                          \n",
            "                                                                 \n",
            " global_max_pooling2d (Globa  (None, 1280)             0         \n",
            " lMaxPooling2D)                                                  \n",
            "                                                                 \n",
            " dense (Dense)               (None, 256)               327936    \n",
            "                                                                 \n",
            " activation (Activation)     (None, 256)               0         \n",
            "                                                                 \n",
            " dropout (Dropout)           (None, 256)               0         \n",
            "                                                                 \n",
            " dense_1 (Dense)             (None, 128)               32896     \n",
            "                                                                 \n",
            " activation_1 (Activation)   (None, 128)               0         \n",
            "                                                                 \n",
            " dropout_1 (Dropout)         (None, 128)               0         \n",
            "                                                                 \n",
            " dense_2 (Dense)             (None, 128)               16512     \n",
            "                                                                 \n",
            " activation_2 (Activation)   (None, 128)               0         \n",
            "                                                                 \n",
            " dropout_2 (Dropout)         (None, 128)               0         \n",
            "                                                                 \n",
            " dense_3 (Dense)             (None, 1)                 129       \n",
            "                                                                 \n",
            "=================================================================\n",
            "Total params: 2,635,457\n",
            "Trainable params: 2,601,345\n",
            "Non-trainable params: 34,112\n",
            "_________________________________________________________________\n",
            "Epoch 1/20\n",
            "200/200 [==============================] - ETA: 0s - loss: 0.7478 - accuracy: 0.8039 - precision: 0.7487 - recall: 0.7411 - auc: 0.8599"
          ]
        },
        {
          "name": "stderr",
          "output_type": "stream",
          "text": [
            "/usr/local/lib/python3.7/dist-packages/PIL/TiffImagePlugin.py:788: UserWarning: Corrupt EXIF data.  Expecting to read 4 bytes but only got 0. \n",
            "  warnings.warn(str(msg))\n"
          ]
        },
        {
          "name": "stdout",
          "output_type": "stream",
          "text": [
            "\b\b\b\b\b\b\b\b\b\b\b\b\b\b\b\b\b\b\b\b\b\b\b\b\b\b\b\b\b\b\b\b\b\b\b\b\b\b\b\b\b\b\b\b\b\b\b\b\b\b\b\b\b\b\b\b\b\b\b\b\b\b\b\b\b\b\b\b\b\b\b\b\b\b\b\b\b\b\b\b\b\b\b\b\b\b\b\b\b\b\b\b\b\b\b\b\b\b\b\b\b\b\b\b\b\b\b\b\b\b\b\b\b\b\b\b\b\b\b\b\b\b\b\b\b\b\b\b\b\b\b\b\b\b\b\r200/200 [==============================] - 231s 1s/step - loss: 0.7478 - accuracy: 0.8039 - precision: 0.7487 - recall: 0.7411 - auc: 0.8599 - val_loss: 0.1727 - val_accuracy: 0.9444 - val_precision: 0.9696 - val_recall: 0.8827 - val_auc: 0.9840 - lr: 1.0000e-04\n",
            "Epoch 2/20\n",
            "200/200 [==============================] - 209s 1s/step - loss: 0.2286 - accuracy: 0.9214 - precision: 0.9042 - recall: 0.8867 - auc: 0.9729 - val_loss: 0.1476 - val_accuracy: 0.9606 - val_precision: 0.9910 - val_recall: 0.9048 - val_auc: 0.9870 - lr: 1.0000e-04\n",
            "Epoch 3/20\n",
            "200/200 [==============================] - 205s 1s/step - loss: 0.1461 - accuracy: 0.9542 - precision: 0.9471 - recall: 0.9362 - auc: 0.9866 - val_loss: 0.0747 - val_accuracy: 0.9722 - val_precision: 0.9807 - val_recall: 0.9465 - val_auc: 0.9951 - lr: 1.0000e-04\n",
            "Epoch 4/20\n",
            " 26/200 [==>...........................] - ETA: 2:16 - loss: 0.1361 - accuracy: 0.9519 - precision: 0.9350 - recall: 0.9408 - auc: 0.9882"
          ]
        },
        {
          "name": "stderr",
          "output_type": "stream",
          "text": [
            "/usr/local/lib/python3.7/dist-packages/PIL/Image.py:960: UserWarning: Palette images with Transparency expressed in bytes should be converted to RGBA images\n",
            "  \"Palette images with Transparency expressed in bytes should be \"\n"
          ]
        },
        {
          "name": "stdout",
          "output_type": "stream",
          "text": [
            "200/200 [==============================] - 203s 1s/step - loss: 0.1179 - accuracy: 0.9583 - precision: 0.9483 - recall: 0.9424 - auc: 0.9905 - val_loss: 0.0846 - val_accuracy: 0.9716 - val_precision: 0.9913 - val_recall: 0.9336 - val_auc: 0.9959 - lr: 1.0000e-04\n",
            "Epoch 5/20\n",
            "200/200 [==============================] - 201s 1s/step - loss: 0.0901 - accuracy: 0.9697 - precision: 0.9629 - recall: 0.9590 - auc: 0.9943 - val_loss: 0.0540 - val_accuracy: 0.9822 - val_precision: 0.9804 - val_recall: 0.9732 - val_auc: 0.9971 - lr: 1.0000e-04\n",
            "Epoch 6/20\n",
            "200/200 [==============================] - 201s 1s/step - loss: 0.0829 - accuracy: 0.9733 - precision: 0.9678 - recall: 0.9636 - auc: 0.9941 - val_loss: 0.0541 - val_accuracy: 0.9831 - val_precision: 0.9902 - val_recall: 0.9664 - val_auc: 0.9967 - lr: 1.0000e-04\n",
            "Epoch 7/20\n",
            "200/200 [==============================] - 201s 1s/step - loss: 0.0703 - accuracy: 0.9766 - precision: 0.9730 - recall: 0.9668 - auc: 0.9957 - val_loss: 0.0523 - val_accuracy: 0.9809 - val_precision: 0.9926 - val_recall: 0.9588 - val_auc: 0.9975 - lr: 1.0000e-04\n",
            "Epoch 8/20\n",
            "200/200 [==============================] - 200s 1s/step - loss: 0.0778 - accuracy: 0.9695 - precision: 0.9588 - recall: 0.9638 - auc: 0.9957 - val_loss: 0.0408 - val_accuracy: 0.9831 - val_precision: 0.9918 - val_recall: 0.9651 - val_auc: 0.9984 - lr: 1.0000e-04\n",
            "Epoch 9/20\n",
            "200/200 [==============================] - 202s 1s/step - loss: 0.0599 - accuracy: 0.9769 - precision: 0.9738 - recall: 0.9668 - auc: 0.9972 - val_loss: 0.0511 - val_accuracy: 0.9791 - val_precision: 0.9914 - val_recall: 0.9530 - val_auc: 0.9970 - lr: 1.0000e-04\n",
            "Epoch 10/20\n",
            "200/200 [==============================] - 202s 1s/step - loss: 0.0563 - accuracy: 0.9787 - precision: 0.9721 - recall: 0.9737 - auc: 0.9971 - val_loss: 0.0546 - val_accuracy: 0.9778 - val_precision: 0.9911 - val_recall: 0.9535 - val_auc: 0.9978 - lr: 1.0000e-04\n",
            "Epoch 11/20\n",
            "200/200 [==============================] - ETA: 0s - loss: 0.0571 - accuracy: 0.9786 - precision: 0.9752 - recall: 0.9684 - auc: 0.9965\n",
            "Epoch 11: ReduceLROnPlateau reducing learning rate to 4.999999873689376e-05.\n",
            "200/200 [==============================] - 201s 1s/step - loss: 0.0571 - accuracy: 0.9786 - precision: 0.9752 - recall: 0.9684 - auc: 0.9965 - val_loss: 0.0502 - val_accuracy: 0.9812 - val_precision: 0.9908 - val_recall: 0.9603 - val_auc: 0.9978 - lr: 1.0000e-04\n",
            "Epoch 12/20\n",
            "200/200 [==============================] - 203s 1s/step - loss: 0.0483 - accuracy: 0.9802 - precision: 0.9787 - recall: 0.9696 - auc: 0.9981 - val_loss: 0.0360 - val_accuracy: 0.9834 - val_precision: 0.9906 - val_recall: 0.9650 - val_auc: 0.9984 - lr: 5.0000e-05\n",
            "Epoch 13/20\n",
            "200/200 [==============================] - 238s 1s/step - loss: 0.0507 - accuracy: 0.9804 - precision: 0.9780 - recall: 0.9694 - auc: 0.9974 - val_loss: 0.0462 - val_accuracy: 0.9825 - val_precision: 0.9942 - val_recall: 0.9610 - val_auc: 0.9976 - lr: 5.0000e-05\n",
            "Epoch 14/20\n",
            "200/200 [==============================] - 202s 1s/step - loss: 0.0444 - accuracy: 0.9850 - precision: 0.9806 - recall: 0.9798 - auc: 0.9975 - val_loss: 0.0428 - val_accuracy: 0.9841 - val_precision: 0.9902 - val_recall: 0.9689 - val_auc: 0.9980 - lr: 5.0000e-05\n",
            "Epoch 15/20\n",
            "200/200 [==============================] - ETA: 0s - loss: 0.0538 - accuracy: 0.9809 - precision: 0.9802 - recall: 0.9698 - auc: 0.9973\n",
            "Epoch 15: ReduceLROnPlateau reducing learning rate to 2.499999936844688e-05.\n",
            "200/200 [==============================] - 204s 1s/step - loss: 0.0538 - accuracy: 0.9809 - precision: 0.9802 - recall: 0.9698 - auc: 0.9973 - val_loss: 0.0458 - val_accuracy: 0.9819 - val_precision: 0.9892 - val_recall: 0.9636 - val_auc: 0.9981 - lr: 5.0000e-05\n",
            "Epoch 16/20\n",
            "200/200 [==============================] - 201s 1s/step - loss: 0.0417 - accuracy: 0.9839 - precision: 0.9821 - recall: 0.9762 - auc: 0.9983 - val_loss: 0.0355 - val_accuracy: 0.9881 - val_precision: 0.9926 - val_recall: 0.9765 - val_auc: 0.9982 - lr: 2.5000e-05\n",
            "Epoch 17/20\n",
            "200/200 [==============================] - 201s 1s/step - loss: 0.0470 - accuracy: 0.9823 - precision: 0.9801 - recall: 0.9732 - auc: 0.9983 - val_loss: 0.0329 - val_accuracy: 0.9859 - val_precision: 0.9927 - val_recall: 0.9714 - val_auc: 0.9990 - lr: 2.5000e-05\n",
            "Epoch 18/20\n",
            "200/200 [==============================] - 202s 1s/step - loss: 0.0397 - accuracy: 0.9842 - precision: 0.9837 - recall: 0.9763 - auc: 0.9988 - val_loss: 0.0358 - val_accuracy: 0.9847 - val_precision: 0.9897 - val_recall: 0.9721 - val_auc: 0.9982 - lr: 2.5000e-05\n",
            "Epoch 19/20\n",
            "200/200 [==============================] - 201s 1s/step - loss: 0.0378 - accuracy: 0.9845 - precision: 0.9821 - recall: 0.9777 - auc: 0.9991 - val_loss: 0.0297 - val_accuracy: 0.9850 - val_precision: 0.9884 - val_recall: 0.9723 - val_auc: 0.9990 - lr: 2.5000e-05\n",
            "Epoch 20/20\n",
            "200/200 [==============================] - 202s 1s/step - loss: 0.0384 - accuracy: 0.9819 - precision: 0.9840 - recall: 0.9689 - auc: 0.9989 - val_loss: 0.0298 - val_accuracy: 0.9866 - val_precision: 0.9879 - val_recall: 0.9777 - val_auc: 0.9993 - lr: 2.5000e-05\n",
            "507/507 [==============================] - 239s 470ms/step - loss: 0.0336 - accuracy: 0.9867 - precision: 0.9898 - recall: 0.9758 - auc: 0.9988\n",
            "Accuracy of model on testing data :  98.67455959320068 %\n"
          ]
        },
        {
          "data": {
            "image/png": "[encoded data removed]",
            "text/plain": [
              "<Figure size 1440x360 with 5 Axes>"
            ]
          },
          "metadata": {
            "needs_background": "light"
          },
          "output_type": "display_data"
        },
        {
          "name": "stdout",
          "output_type": "stream",
          "text": [
            "              precision    recall  f1-score   support\n",
            "\n",
            "           0       0.98      0.99      0.99      9950\n",
            "           1       0.99      0.98      0.98      6271\n",
            "\n",
            "    accuracy                           0.99     16221\n",
            "   macro avg       0.99      0.98      0.99     16221\n",
            "weighted avg       0.99      0.99      0.99     16221\n",
            "\n"
          ]
        },
        {
          "data": {
            "image/png": "[encoded data removed]",
            "text/plain": [
              "<Figure size 720x576 with 2 Axes>"
            ]
          },
          "metadata": {
            "needs_background": "light"
          },
          "output_type": "display_data"
        }
      ],
      "source": [
        "mobilenet = tf.keras.applications.MobileNetV2(include_top = False, input_shape = (224, 224, 3), weights = 'imagenet', pooling = \"Max\")\n",
        "for layer in mobilenet.layers:\n",
        "    layer.trainable=True\n",
        "nodes1 = 256\n",
        "nodes2 = 128\n",
        "nodes3 = 64\n",
        "drop_rate = 0.3\n",
        "activation = 'sigmoid'\n",
        "epochs = 20\n",
        "lr = 0.0001\n",
        "\n",
        "model = CNN(mobilenet, nodes1,nodes2,nodes3, drop_rate, activation, epochs, lr)"
      ]
    },
    {
      "cell_type": "code",
      "execution_count": null,
      "metadata": {
        "id": "cYF15l2eEt9F"
      },
      "outputs": [],
      "source": [
        "from keras.models import load_model\n",
        "\n",
        "model.save('model_weights.h5')"
      ]
    },
    {
      "cell_type": "code",
      "execution_count": null,
      "metadata": {
        "id": "MBZOy35MElXG"
      },
      "outputs": [],
      "source": [
        "model_json = model.to_json()\n",
        "with open(\"model.json\",\"w\") as json_file:\n",
        "    json_file.write(model_json)"
      ]
    },
    {
      "cell_type": "code",
      "execution_count": null,
      "metadata": {
        "colab": {
          "base_uri": "https://localhost:8080/",
          "height": 34
        },
        "id": "m8Hjcm3KTXHI",
        "outputId": "9dc668ec-3f60-489e-a758-8a4d2d54a78e"
      },
      "outputs": [
        {
          "data": {
            "application/javascript": "\n    async function download(id, filename, size) {\n      if (!google.colab.kernel.accessAllowed) {\n        return;\n      }\n      const div = document.createElement('div');\n      const label = document.createElement('label');\n      label.textContent = `Downloading \"${filename}\": `;\n      div.appendChild(label);\n      const progress = document.createElement('progress');\n      progress.max = size;\n      div.appendChild(progress);\n      document.body.appendChild(div);\n\n      const buffers = [];\n      let downloaded = 0;\n\n      const channel = await google.colab.kernel.comms.open(id);\n      // Send a message to notify the kernel that we're ready.\n      channel.send({})\n\n      for await (const message of channel.messages) {\n        // Send a message to notify the kernel that we're ready.\n        channel.send({})\n        if (message.buffers) {\n          for (const buffer of message.buffers) {\n            buffers.push(buffer);\n            downloaded += buffer.byteLength;\n            progress.value = downloaded;\n          }\n        }\n      }\n      const blob = new Blob(buffers, {type: 'application/binary'});\n      const a = document.createElement('a');\n      a.href = window.URL.createObjectURL(blob);\n      a.download = filename;\n      div.appendChild(a);\n      a.click();\n      div.remove();\n    }\n  ",
            "text/plain": [
              "<IPython.core.display.Javascript object>"
            ]
          },
          "metadata": {},
          "output_type": "display_data"
        },
        {
          "data": {
            "application/javascript": "download(\"download_ba3b2cc8-83f0-4a1b-bf17-ca37ea023189\", \"model.json\", 83015)",
            "text/plain": [
              "<IPython.core.display.Javascript object>"
            ]
          },
          "metadata": {},
          "output_type": "display_data"
        },
        {
          "data": {
            "application/javascript": "\n    async function download(id, filename, size) {\n      if (!google.colab.kernel.accessAllowed) {\n        return;\n      }\n      const div = document.createElement('div');\n      const label = document.createElement('label');\n      label.textContent = `Downloading \"${filename}\": `;\n      div.appendChild(label);\n      const progress = document.createElement('progress');\n      progress.max = size;\n      div.appendChild(progress);\n      document.body.appendChild(div);\n\n      const buffers = [];\n      let downloaded = 0;\n\n      const channel = await google.colab.kernel.comms.open(id);\n      // Send a message to notify the kernel that we're ready.\n      channel.send({})\n\n      for await (const message of channel.messages) {\n        // Send a message to notify the kernel that we're ready.\n        channel.send({})\n        if (message.buffers) {\n          for (const buffer of message.buffers) {\n            buffers.push(buffer);\n            downloaded += buffer.byteLength;\n            progress.value = downloaded;\n          }\n        }\n      }\n      const blob = new Blob(buffers, {type: 'application/binary'});\n      const a = document.createElement('a');\n      a.href = window.URL.createObjectURL(blob);\n      a.download = filename;\n      div.appendChild(a);\n      a.click();\n      div.remove();\n    }\n  ",
            "text/plain": [
              "<IPython.core.display.Javascript object>"
            ]
          },
          "metadata": {},
          "output_type": "display_data"
        },
        {
          "data": {
            "application/javascript": "download(\"download_33ef7f3f-2a5a-444f-b573-b94273960969\", \"model_weights.h5\", 32081496)",
            "text/plain": [
              "<IPython.core.display.Javascript object>"
            ]
          },
          "metadata": {},
          "output_type": "display_data"
        }
      ],
      "source": [
        "from google.colab import files\n",
        "files.download('model.json')\n",
        "files.download('model_weights.h5')"
      ]
    },
    {
      "cell_type": "code",
      "execution_count": null,
      "metadata": {
        "id": "vYf6su_RXa89"
      },
      "outputs": [],
      "source": []
    }
  ],
  "metadata": {
    "accelerator": "GPU",
    "colab": {
      "collapsed_sections": [],
      "provenance": []
    },
    "kernelspec": {
      "display_name": "Python 3",
      "name": "python3"
    },
    "language_info": {
      "name": "python",
      "version": "3.7.9"
    }
  },
  "nbformat": 4,
  "nbformat_minor": 0
}
