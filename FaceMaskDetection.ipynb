{
  "cells": [
    {
      "cell_type": "code",
      "source": [
        "!pip install opendatasets"
      ],
      "metadata": {
        "colab": {
          "base_uri": "https://localhost:8080/"
        },
        "id": "pNK8q5Sk66j6",
        "outputId": "da2c0294-6e4b-4097-e852-8450c3e6582a"
      },
      "execution_count": 1,
      "outputs": [
        {
          "output_type": "stream",
          "name": "stdout",
          "text": [
            "Looking in indexes: https://pypi.org/simple, https://us-python.pkg.dev/colab-wheels/public/simple/\n",
            "Collecting opendatasets\n",
            "  Downloading opendatasets-0.1.22-py3-none-any.whl (15 kB)\n",
            "Requirement already satisfied: click in /usr/local/lib/python3.7/dist-packages (from opendatasets) (7.1.2)\n",
            "Requirement already satisfied: tqdm in /usr/local/lib/python3.7/dist-packages (from opendatasets) (4.64.1)\n",
            "Requirement already satisfied: kaggle in /usr/local/lib/python3.7/dist-packages (from opendatasets) (1.5.12)\n",
            "Requirement already satisfied: python-slugify in /usr/local/lib/python3.7/dist-packages (from kaggle->opendatasets) (6.1.2)\n",
            "Requirement already satisfied: urllib3 in /usr/local/lib/python3.7/dist-packages (from kaggle->opendatasets) (1.24.3)\n",
            "Requirement already satisfied: six>=1.10 in /usr/local/lib/python3.7/dist-packages (from kaggle->opendatasets) (1.15.0)\n",
            "Requirement already satisfied: requests in /usr/local/lib/python3.7/dist-packages (from kaggle->opendatasets) (2.23.0)\n",
            "Requirement already satisfied: python-dateutil in /usr/local/lib/python3.7/dist-packages (from kaggle->opendatasets) (2.8.2)\n",
            "Requirement already satisfied: certifi in /usr/local/lib/python3.7/dist-packages (from kaggle->opendatasets) (2022.9.24)\n",
            "Requirement already satisfied: text-unidecode>=1.3 in /usr/local/lib/python3.7/dist-packages (from python-slugify->kaggle->opendatasets) (1.3)\n",
            "Requirement already satisfied: idna<3,>=2.5 in /usr/local/lib/python3.7/dist-packages (from requests->kaggle->opendatasets) (2.10)\n",
            "Requirement already satisfied: chardet<4,>=3.0.2 in /usr/local/lib/python3.7/dist-packages (from requests->kaggle->opendatasets) (3.0.4)\n",
            "Installing collected packages: opendatasets\n",
            "Successfully installed opendatasets-0.1.22\n"
          ]
        }
      ]
    },
    {
      "cell_type": "code",
      "execution_count": 2,
      "metadata": {
        "id": "nRO8uuywLK2N"
      },
      "outputs": [],
      "source": [
        "import pandas as pd\n",
        "import numpy as np\n",
        "import os\n",
        "\n",
        "import matplotlib.pyplot as plt\n",
        "import seaborn as sns\n",
        "\n",
        "import opendatasets as od\n",
        "\n",
        "from keras.preprocessing.image import ImageDataGenerator\n",
        "from keras.layers import Conv2D,Dense, MaxPooling2D,Flatten,Dropout,Activation, BatchNormalization\n",
        "from tensorflow.keras.optimizers import Adam,RMSprop,SGD\n",
        "from keras import regularizers\n",
        "import tensorflow as tf\n",
        "from keras.callbacks import ModelCheckpoint,EarlyStopping,ReduceLROnPlateau\n",
        "import datetime\n",
        "from tensorflow.keras.utils import plot_model"
      ]
    },
    {
      "cell_type": "code",
      "execution_count": 3,
      "metadata": {
        "colab": {
          "base_uri": "https://localhost:8080/"
        },
        "id": "OQnktfffmSXf",
        "outputId": "4a4a54d2-fc5f-4f47-8be1-1c8b2387d1e6"
      },
      "outputs": [
        {
          "output_type": "stream",
          "name": "stdout",
          "text": [
            "Please provide your Kaggle credentials to download this dataset. Learn more: http://bit.ly/kaggle-creds\n",
            "Your Kaggle username: islamfares26\n",
            "Your Kaggle Key: ··········\n",
            "Downloading facemask-dataset.zip to dataset1/facemask-dataset\n"
          ]
        },
        {
          "output_type": "stream",
          "name": "stderr",
          "text": [
            "100%|██████████| 114M/114M [00:00<00:00, 151MB/s]\n"
          ]
        },
        {
          "output_type": "stream",
          "name": "stdout",
          "text": [
            "\n"
          ]
        }
      ],
      "source": [
        "od.download(\"https://www.kaggle.com/datasets/sumansid/facemask-dataset\",data_dir=\"dataset1\")"
      ]
    },
    {
      "cell_type": "code",
      "source": [
        "od.download(\"https://www.kaggle.com/datasets/ahemateja19bec1025/facemask-dataset\",data_dir=\"dataset2\")"
      ],
      "metadata": {
        "id": "uBmsT0bap2vY",
        "colab": {
          "base_uri": "https://localhost:8080/"
        },
        "outputId": "7f007180-bd28-4524-f220-78bbb9e2547d"
      },
      "execution_count": 4,
      "outputs": [
        {
          "output_type": "stream",
          "name": "stdout",
          "text": [
            "Please provide your Kaggle credentials to download this dataset. Learn more: http://bit.ly/kaggle-creds\n",
            "Your Kaggle username: islamfares26\n",
            "Your Kaggle Key: ··········\n",
            "Downloading facemask-dataset.zip to dataset2/facemask-dataset\n"
          ]
        },
        {
          "output_type": "stream",
          "name": "stderr",
          "text": [
            "100%|██████████| 50.4M/50.4M [00:00<00:00, 122MB/s]\n"
          ]
        },
        {
          "output_type": "stream",
          "name": "stdout",
          "text": [
            "\n"
          ]
        }
      ]
    },
    {
      "cell_type": "code",
      "source": [
        "od.download(\"https://www.kaggle.com/datasets/vinaykudari/facemask\",data_dir=\"dataset3\")"
      ],
      "metadata": {
        "colab": {
          "base_uri": "https://localhost:8080/"
        },
        "id": "5A4H4tKq8T8P",
        "outputId": "489077b1-558b-4f41-e925-0fb246995b45"
      },
      "execution_count": 5,
      "outputs": [
        {
          "output_type": "stream",
          "name": "stdout",
          "text": [
            "Please provide your Kaggle credentials to download this dataset. Learn more: http://bit.ly/kaggle-creds\n",
            "Your Kaggle username: islamfares26\n",
            "Your Kaggle Key: ··········\n",
            "Downloading facemask.zip to dataset3/facemask\n"
          ]
        },
        {
          "output_type": "stream",
          "name": "stderr",
          "text": [
            "100%|██████████| 137M/137M [00:01<00:00, 119MB/s]\n"
          ]
        },
        {
          "output_type": "stream",
          "name": "stdout",
          "text": [
            "\n"
          ]
        }
      ]
    },
    {
      "cell_type": "code",
      "source": [
        "od.download(\"https://www.kaggle.com/datasets/pranavsingaraju/facemask-detection-dataset-20000-images\",data_dir=\"dataset4\")"
      ],
      "metadata": {
        "colab": {
          "base_uri": "https://localhost:8080/"
        },
        "id": "4nj2SXLl8okP",
        "outputId": "da9b4e2f-b11b-4901-a98d-edcf04f3169c"
      },
      "execution_count": 6,
      "outputs": [
        {
          "output_type": "stream",
          "name": "stdout",
          "text": [
            "Please provide your Kaggle credentials to download this dataset. Learn more: http://bit.ly/kaggle-creds\n",
            "Your Kaggle username: islamfares26\n",
            "Your Kaggle Key: ··········\n",
            "Downloading facemask-detection-dataset-20000-images.zip to dataset4/facemask-detection-dataset-20000-images\n"
          ]
        },
        {
          "output_type": "stream",
          "name": "stderr",
          "text": [
            "100%|██████████| 604M/604M [00:03<00:00, 206MB/s]\n"
          ]
        },
        {
          "output_type": "stream",
          "name": "stdout",
          "text": [
            "\n"
          ]
        }
      ]
    },
    {
      "cell_type": "code",
      "source": [
        "od.download(\"https://www.kaggle.com/datasets/ashiqurrahmantanzil/facemask-dataset\",data_dir=\"dataset5\")"
      ],
      "metadata": {
        "colab": {
          "base_uri": "https://localhost:8080/"
        },
        "id": "FvJ-Fx8H8ycf",
        "outputId": "9d9421cb-9753-448e-b735-4cae2005555b"
      },
      "execution_count": 7,
      "outputs": [
        {
          "output_type": "stream",
          "name": "stdout",
          "text": [
            "Please provide your Kaggle credentials to download this dataset. Learn more: http://bit.ly/kaggle-creds\n",
            "Your Kaggle username: islamfares26\n",
            "Your Kaggle Key: ··········\n",
            "Downloading facemask-dataset.zip to dataset5/facemask-dataset\n"
          ]
        },
        {
          "output_type": "stream",
          "name": "stderr",
          "text": [
            "100%|██████████| 1.26G/1.26G [00:10<00:00, 132MB/s]\n"
          ]
        },
        {
          "output_type": "stream",
          "name": "stdout",
          "text": [
            "\n"
          ]
        }
      ]
    },
    {
      "cell_type": "code",
      "source": [
        "od.download(\"https://www.kaggle.com/datasets/shiekhburhan/face-mask-dataset\",data_dir=\"dataset6\")"
      ],
      "metadata": {
        "colab": {
          "base_uri": "https://localhost:8080/"
        },
        "id": "NWW3iYXelytH",
        "outputId": "faf6d3c0-f7c6-4522-f725-de3a2ae95fec"
      },
      "execution_count": 9,
      "outputs": [
        {
          "output_type": "stream",
          "name": "stdout",
          "text": [
            "Please provide your Kaggle credentials to download this dataset. Learn more: http://bit.ly/kaggle-creds\n",
            "Your Kaggle username: islamfares26\n",
            "Your Kaggle Key: ··········\n",
            "Downloading face-mask-dataset.zip to dataset6/face-mask-dataset\n"
          ]
        },
        {
          "output_type": "stream",
          "name": "stderr",
          "text": [
            "100%|██████████| 2.33G/2.33G [00:18<00:00, 135MB/s]\n"
          ]
        },
        {
          "output_type": "stream",
          "name": "stdout",
          "text": [
            "\n"
          ]
        }
      ]
    },
    {
      "cell_type": "code",
      "source": [
        "od.download(\"https://www.kaggle.com/datasets/ashishjangra27/face-mask-12k-images-dataset\", data_dir = \"dataset7\")"
      ],
      "metadata": {
        "colab": {
          "base_uri": "https://localhost:8080/"
        },
        "id": "-epxVrFpmMzk",
        "outputId": "dd0b7f67-983f-41f8-e160-57418a5993fa"
      },
      "execution_count": 10,
      "outputs": [
        {
          "output_type": "stream",
          "name": "stdout",
          "text": [
            "Please provide your Kaggle credentials to download this dataset. Learn more: http://bit.ly/kaggle-creds\n",
            "Your Kaggle username: islamfares26\n",
            "Your Kaggle Key: ··········\n",
            "Downloading face-mask-12k-images-dataset.zip to dataset7/face-mask-12k-images-dataset\n"
          ]
        },
        {
          "output_type": "stream",
          "name": "stderr",
          "text": [
            "100%|██████████| 330M/330M [00:01<00:00, 194MB/s]\n"
          ]
        },
        {
          "output_type": "stream",
          "name": "stdout",
          "text": [
            "\n"
          ]
        }
      ]
    },
    {
      "cell_type": "code",
      "source": [
        "od.download(\"https://www.kaggle.com/datasets/spandanpatnaik09/face-mask-detectormask-not-mask-incorrect-mask\",data_dir = \"dataset8\")"
      ],
      "metadata": {
        "colab": {
          "base_uri": "https://localhost:8080/"
        },
        "id": "iEXrn6njmNKZ",
        "outputId": "8a2f8c4c-5570-4eb7-be27-7dcc50722628"
      },
      "execution_count": 11,
      "outputs": [
        {
          "output_type": "stream",
          "name": "stdout",
          "text": [
            "Please provide your Kaggle credentials to download this dataset. Learn more: http://bit.ly/kaggle-creds\n",
            "Your Kaggle username: islamfares26\n",
            "Your Kaggle Key: ··········\n",
            "Downloading face-mask-detectormask-not-mask-incorrect-mask.zip to dataset8/face-mask-detectormask-not-mask-incorrect-mask\n"
          ]
        },
        {
          "output_type": "stream",
          "name": "stderr",
          "text": [
            "100%|██████████| 190M/190M [00:01<00:00, 151MB/s]\n"
          ]
        },
        {
          "output_type": "stream",
          "name": "stdout",
          "text": [
            "\n"
          ]
        }
      ]
    },
    {
      "cell_type": "code",
      "execution_count": 12,
      "metadata": {
        "id": "QGrg4JrcOrR4"
      },
      "outputs": [],
      "source": [
        "train_datagen = ImageDataGenerator(preprocessing_function=tf.keras.applications.resnet50.preprocess_input,\n",
        "                                   validation_split = 0.2, rotation_range=2,\n",
        "        width_shift_range=0.2,\n",
        "        height_shift_range=0.2,\n",
        "        shear_range=0.2,\n",
        "        zoom_range=0.2,\n",
        "        fill_mode='nearest')"
      ]
    },
    {
      "cell_type": "code",
      "execution_count": 13,
      "metadata": {
        "id": "fBHSpZu4krXX"
      },
      "outputs": [],
      "source": [
        "valid_datagen = ImageDataGenerator(preprocessing_function=tf.keras.applications.resnet50.preprocess_input,validation_split=0.2)"
      ]
    },
    {
      "cell_type": "code",
      "execution_count": 14,
      "metadata": {
        "colab": {
          "base_uri": "https://localhost:8080/"
        },
        "id": "Cn1LAOS6-gZx",
        "outputId": "2ad5c7fc-1efe-4fbf-be43-ecfa20c92636"
      },
      "outputs": [
        {
          "output_type": "stream",
          "name": "stdout",
          "text": [
            "Found 270 images belonging to 2 classes.\n",
            "Found 67 images belonging to 2 classes.\n"
          ]
        }
      ],
      "source": [
        "train_dataset1  = train_datagen.flow_from_directory(directory = '/content/dataset1/facemask-dataset',\n",
        "                                                   class_mode = 'binary',\n",
        "                                                   color_mode=\"rgb\",\n",
        "                                                    subset=\"training\",\n",
        "                                                     target_size = (128,128),\n",
        "                                                   classes={'Mask': 0,'No Mask': 1})\n",
        "valid_dataset1 = valid_datagen.flow_from_directory(directory = '/content/dataset1/facemask-dataset',\n",
        "                                                  class_mode = 'binary',\n",
        "                                                  subset = 'validation',\n",
        "                                                  color_mode=\"rgb\",\n",
        "                                                    target_size = (128,128),\n",
        "                                                  classes={'Mask': 0,'No Mask': 1})"
      ]
    },
    {
      "cell_type": "code",
      "source": [
        "train_datagen = ImageDataGenerator(preprocessing_function=tf.keras.applications.resnet50.preprocess_input,\n",
        "                                   validation_split = 0.2, rotation_range=2,\n",
        "        width_shift_range=0.2,\n",
        "        height_shift_range=0.2,\n",
        "        shear_range=0.2,\n",
        "        zoom_range=0.2,\n",
        "        fill_mode='nearest')\n",
        "valid_datagen = ImageDataGenerator(preprocessing_function=tf.keras.applications.resnet50.preprocess_input,validation_split=0.2)\n",
        "train_dataset2  = train_datagen.flow_from_directory(directory = '/content/dataset2/facemask-dataset/dataset/dataset',\n",
        "                                                   class_mode = 'binary',\n",
        "                                                   color_mode=\"rgb\",\n",
        "                                                    subset=\"training\",\n",
        "                                                     target_size = (128,128),\n",
        "                                                   classes={'1': 0,'0': 1})\n",
        "valid_dataset2 = valid_datagen.flow_from_directory(directory = '/content/dataset2/facemask-dataset/dataset/dataset',\n",
        "                                                  class_mode = 'binary',\n",
        "                                                  subset = 'validation',\n",
        "                                                  color_mode=\"rgb\",\n",
        "                                                    target_size = (128,128),\n",
        "                                                  classes={'1': 0,'0': 1})"
      ],
      "metadata": {
        "colab": {
          "base_uri": "https://localhost:8080/"
        },
        "id": "cqLOqtGDMfQm",
        "outputId": "76d62b1f-25fa-48bc-c5a1-2b80c87904b7"
      },
      "execution_count": 15,
      "outputs": [
        {
          "output_type": "stream",
          "name": "stdout",
          "text": [
            "Found 1101 images belonging to 2 classes.\n",
            "Found 275 images belonging to 2 classes.\n"
          ]
        }
      ]
    },
    {
      "cell_type": "code",
      "source": [
        "train_datagen = ImageDataGenerator(preprocessing_function=tf.keras.applications.resnet50.preprocess_input,\n",
        "                                   validation_split = 0.2, rotation_range=2,\n",
        "        width_shift_range=0.2,\n",
        "        height_shift_range=0.2,\n",
        "        shear_range=0.2,\n",
        "        zoom_range=0.2,\n",
        "        fill_mode='nearest')\n",
        "valid_datagen = ImageDataGenerator(preprocessing_function=tf.keras.applications.resnet50.preprocess_input,validation_split=0.2)\n",
        "train_dataset3  = train_datagen.flow_from_directory(directory = '/content/dataset3/facemask/train',\n",
        "                                                   class_mode = 'binary',\n",
        "                                                   color_mode=\"rgb\",\n",
        "                                                    subset=\"training\",\n",
        "                                                     target_size = (128,128),\n",
        "                                                   classes={'with_mask': 0,'without_mask': 1})\n",
        "valid_dataset3 = valid_datagen.flow_from_directory(directory = '/content/dataset3/facemask/train',\n",
        "                                                  class_mode = 'binary',\n",
        "                                                  subset = 'validation',\n",
        "                                                  color_mode=\"rgb\",\n",
        "                                                    target_size = (128,128),\n",
        "                                                  classes={'with_mask': 0,'without_mask': 1})"
      ],
      "metadata": {
        "colab": {
          "base_uri": "https://localhost:8080/"
        },
        "id": "kkjdK_-6M9JL",
        "outputId": "5c8bd453-04fe-4ca2-9ebd-80bd779dcb0d"
      },
      "execution_count": 16,
      "outputs": [
        {
          "output_type": "stream",
          "name": "stdout",
          "text": [
            "Found 435 images belonging to 2 classes.\n",
            "Found 108 images belonging to 2 classes.\n"
          ]
        }
      ]
    },
    {
      "cell_type": "code",
      "source": [
        "train_datagen = ImageDataGenerator(preprocessing_function=tf.keras.applications.resnet50.preprocess_input,\n",
        "                                   validation_split = 0.2, rotation_range=2,\n",
        "        width_shift_range=0.2,\n",
        "        height_shift_range=0.2,\n",
        "        shear_range=0.2,\n",
        "        zoom_range=0.2,\n",
        "        fill_mode='nearest')\n",
        "valid_datagen = ImageDataGenerator(preprocessing_function=tf.keras.applications.resnet50.preprocess_input,validation_split=0.2)\n",
        "train_dataset4  = train_datagen.flow_from_directory(directory = '/content/dataset4/facemask-detection-dataset-20000-images',\n",
        "                                                   class_mode = 'binary',\n",
        "                                                   color_mode=\"rgb\",\n",
        "                                                    subset=\"training\",\n",
        "                                                     target_size = (128,128),\n",
        "                                                   classes={'new_with_mask': 0,'new_without_mask': 1})\n",
        "valid_dataset4 = valid_datagen.flow_from_directory(directory = '/content/dataset4/facemask-detection-dataset-20000-images',\n",
        "                                                  class_mode = 'binary',\n",
        "                                                  subset = 'validation',\n",
        "                                                  color_mode=\"rgb\",\n",
        "                                                    target_size = (128,128),\n",
        "                                                  classes={'new_with_mask': 0,'new_without_mask': 1})"
      ],
      "metadata": {
        "colab": {
          "base_uri": "https://localhost:8080/"
        },
        "id": "ozPM7BDDNW-j",
        "outputId": "2afbc2b6-f931-43e0-cfe7-dfee8d48d75e"
      },
      "execution_count": 17,
      "outputs": [
        {
          "output_type": "stream",
          "name": "stdout",
          "text": [
            "Found 16000 images belonging to 2 classes.\n",
            "Found 4000 images belonging to 2 classes.\n"
          ]
        }
      ]
    },
    {
      "cell_type": "code",
      "source": [
        "train_datagen = ImageDataGenerator(preprocessing_function=tf.keras.applications.resnet50.preprocess_input,\n",
        "                                   validation_split = 0.2, rotation_range=2,\n",
        "        width_shift_range=0.2,\n",
        "        height_shift_range=0.2,\n",
        "        shear_range=0.2,\n",
        "        zoom_range=0.2,\n",
        "        fill_mode='nearest')\n",
        "valid_datagen = ImageDataGenerator(preprocessing_function=tf.keras.applications.resnet50.preprocess_input,validation_split=0.2)\n",
        "train_dataset5  = train_datagen.flow_from_directory(directory = '/content/dataset5/facemask-dataset/dataset_final',\n",
        "                                                   class_mode = 'binary',\n",
        "                                                   color_mode=\"rgb\",\n",
        "                                                    subset=\"training\",\n",
        "                                                     target_size = (128,128),\n",
        "                                                   classes={'with_mask': 0,'without_mask': 1})\n",
        "test_dataset = valid_datagen.flow_from_directory(directory = '/content/dataset5/facemask-dataset/dataset_final',\n",
        "                                                  class_mode = 'binary',\n",
        "                                                  subset = 'validation',\n",
        "                                                  color_mode=\"rgb\",\n",
        "                                                    target_size = (128,128),\n",
        "                                                 shuffle = False,\n",
        "                                                  classes={'with_mask': 0,'without_mask': 1})"
      ],
      "metadata": {
        "colab": {
          "base_uri": "https://localhost:8080/"
        },
        "id": "hsfGYC2qNgy0",
        "outputId": "b6054663-d706-4c61-a112-da10380303b6"
      },
      "execution_count": 18,
      "outputs": [
        {
          "output_type": "stream",
          "name": "stdout",
          "text": [
            "Found 11869 images belonging to 2 classes.\n",
            "Found 2966 images belonging to 2 classes.\n"
          ]
        }
      ]
    },
    {
      "cell_type": "code",
      "source": [
        "train_datagen = ImageDataGenerator(preprocessing_function=tf.keras.applications.resnet50.preprocess_input,\n",
        "                                   validation_split = 0.2, rotation_range=2,\n",
        "        width_shift_range=0.2,\n",
        "        height_shift_range=0.2,\n",
        "        shear_range=0.2,\n",
        "        zoom_range=0.2,\n",
        "        fill_mode='nearest')\n",
        "valid_datagen = ImageDataGenerator(preprocessing_function=tf.keras.applications.resnet50.preprocess_input,validation_split=0.2)\n",
        "train_dataset5  = train_datagen.flow_from_directory(directory = '/content/dataset5/facemask-dataset/dataset_final',\n",
        "                                                   class_mode = 'binary',\n",
        "                                                   color_mode=\"rgb\",\n",
        "                                                    subset=\"training\",\n",
        "                                                     target_size = (128,128),\n",
        "                                                   classes={'with_mask': 0,'without_mask': 1})\n",
        "test_dataset = valid_datagen.flow_from_directory(directory = '/content/dataset5/facemask-dataset/dataset_final',\n",
        "                                                  class_mode = 'binary',\n",
        "                                                  subset = 'validation',\n",
        "                                                  color_mode=\"rgb\",\n",
        "                                                    target_size = (128,128),\n",
        "                                                 shuffle = False,\n",
        "                                                  classes={'with_mask': 0,'without_mask': 1})"
      ],
      "metadata": {
        "colab": {
          "base_uri": "https://localhost:8080/"
        },
        "id": "p_ZoNXwMmdJV",
        "outputId": "f6475508-c146-4219-ff2f-0c73347e91be"
      },
      "execution_count": 19,
      "outputs": [
        {
          "output_type": "stream",
          "name": "stdout",
          "text": [
            "Found 11869 images belonging to 2 classes.\n",
            "Found 2966 images belonging to 2 classes.\n"
          ]
        }
      ]
    },
    {
      "cell_type": "code",
      "source": [
        "train_datagen = ImageDataGenerator(preprocessing_function=tf.keras.applications.resnet50.preprocess_input,\n",
        "                                   validation_split = 0.2, rotation_range=2,\n",
        "        width_shift_range=0.2,\n",
        "        height_shift_range=0.2,\n",
        "        shear_range=0.2,\n",
        "        zoom_range=0.2,\n",
        "        fill_mode='nearest')\n",
        "valid_datagen = ImageDataGenerator(preprocessing_function=tf.keras.applications.resnet50.preprocess_input,validation_split=0.2)\n",
        "train_dataset5  = train_datagen.flow_from_directory(directory = '/content/dataset6/face-mask-dataset/FMD_DATASET',\n",
        "                                                   class_mode = 'binary',\n",
        "                                                   color_mode=\"rgb\",\n",
        "                                                    subset=\"training\",\n",
        "                                                     target_size = (128,128),\n",
        "                                                   classes={'with_mask': 0,'without_mask': 1})\n",
        "test_dataset = valid_datagen.flow_from_directory(directory = '/content/dataset6/face-mask-dataset/FMD_DATASET',\n",
        "                                                  class_mode = 'binary',\n",
        "                                                  subset = 'validation',\n",
        "                                                  color_mode=\"rgb\",\n",
        "                                                    target_size = (128,128),\n",
        "                                                 shuffle = False,\n",
        "                                                  classes={'with_mask': 0,'without_mask': 1})"
      ],
      "metadata": {
        "colab": {
          "base_uri": "https://localhost:8080/"
        },
        "id": "pfbnpU44mdd3",
        "outputId": "dabe8bec-a659-41dd-e488-d3f98ad3af47"
      },
      "execution_count": 20,
      "outputs": [
        {
          "output_type": "stream",
          "name": "stdout",
          "text": [
            "Found 7630 images belonging to 2 classes.\n",
            "Found 1906 images belonging to 2 classes.\n"
          ]
        }
      ]
    },
    {
      "cell_type": "code",
      "source": [
        "train_datagen = ImageDataGenerator(preprocessing_function=tf.keras.applications.resnet50.preprocess_input,\n",
        "                                   validation_split = 0.2, rotation_range=2,\n",
        "        width_shift_range=0.2,\n",
        "        height_shift_range=0.2,\n",
        "        shear_range=0.2,\n",
        "        zoom_range=0.2,\n",
        "        fill_mode='nearest')\n",
        "valid_datagen = ImageDataGenerator(preprocessing_function=tf.keras.applications.resnet50.preprocess_input,validation_split=0.2)\n",
        "train_dataset5  = train_datagen.flow_from_directory(directory = '/content/dataset7/face-mask-12k-images-dataset/Face Mask Dataset/Train',\n",
        "                                                   class_mode = 'binary',\n",
        "                                                   color_mode=\"rgb\",\n",
        "                                                    subset=\"training\",\n",
        "                                                     target_size = (128,128),\n",
        "                                                   classes={'WithMask': 0,'WithoutMask': 1})\n",
        "test_dataset = valid_datagen.flow_from_directory(directory = '/content/dataset7/face-mask-12k-images-dataset/Face Mask Dataset/Train',\n",
        "                                                  class_mode = 'binary',\n",
        "                                                  subset = 'validation',\n",
        "                                                  color_mode=\"rgb\",\n",
        "                                                    target_size = (128,128),\n",
        "                                                 shuffle = False,\n",
        "                                                  classes={'WithMask': 0,'WithoutMask': 1})"
      ],
      "metadata": {
        "colab": {
          "base_uri": "https://localhost:8080/"
        },
        "id": "yw25mRt_mduD",
        "outputId": "6d5a98f8-e453-415f-c7c6-70cd7ac4c703"
      },
      "execution_count": 21,
      "outputs": [
        {
          "output_type": "stream",
          "name": "stdout",
          "text": [
            "Found 8000 images belonging to 2 classes.\n",
            "Found 2000 images belonging to 2 classes.\n"
          ]
        }
      ]
    },
    {
      "cell_type": "code",
      "source": [
        "train_datagen = ImageDataGenerator(preprocessing_function=tf.keras.applications.resnet50.preprocess_input,\n",
        "                                   validation_split = 0.2, rotation_range=2,\n",
        "        width_shift_range=0.2,\n",
        "        height_shift_range=0.2,\n",
        "        shear_range=0.2,\n",
        "        zoom_range=0.2,\n",
        "        fill_mode='nearest')\n",
        "valid_datagen = ImageDataGenerator(preprocessing_function=tf.keras.applications.resnet50.preprocess_input,validation_split=0.2)\n",
        "train_dataset5  = train_datagen.flow_from_directory(directory = '/content/dataset8/face-mask-detectormask-not-mask-incorrect-mask/dataset',\n",
        "                                                   class_mode = 'binary',\n",
        "                                                   color_mode=\"rgb\",\n",
        "                                                    subset=\"training\",\n",
        "                                                     target_size = (128,128),\n",
        "                                                   classes={'with_mask': 0,'without_mask': 1})\n",
        "test_dataset = valid_datagen.flow_from_directory(directory = '/content/dataset8/face-mask-detectormask-not-mask-incorrect-mask/dataset',\n",
        "                                                  class_mode = 'binary',\n",
        "                                                  subset = 'validation',\n",
        "                                                  color_mode=\"rgb\",\n",
        "                                                    target_size = (128,128),\n",
        "                                                 shuffle = False,\n",
        "                                                  classes={'with_mask': 0,'without_mask': 1})"
      ],
      "metadata": {
        "colab": {
          "base_uri": "https://localhost:8080/"
        },
        "id": "3Fkbqn0wmeX5",
        "outputId": "7a1aee8f-82d2-4d44-805b-ff83d4e4b472"
      },
      "execution_count": 22,
      "outputs": [
        {
          "output_type": "stream",
          "name": "stdout",
          "text": [
            "Found 1101 images belonging to 2 classes.\n",
            "Found 275 images belonging to 2 classes.\n"
          ]
        }
      ]
    },
    {
      "cell_type": "code",
      "source": [
        "def combine_gen(*gens):\n",
        "    while True:\n",
        "        for g in gens:\n",
        "            yield next(g)"
      ],
      "metadata": {
        "id": "cL3YrW0QNrkC"
      },
      "execution_count": 23,
      "outputs": []
    },
    {
      "cell_type": "code",
      "source": [
        "training_set = combine_gen(train_dataset1,train_dataset2,train_dataset3,train_dataset4,train_dataset5)\n",
        "valid_set =  combine_gen(valid_dataset1,valid_dataset2,valid_dataset3,valid_dataset4)\n",
        "test_set = test_dataset"
      ],
      "metadata": {
        "id": "G4FK9g_xN7UM"
      },
      "execution_count": 24,
      "outputs": []
    },
    {
      "cell_type": "code",
      "execution_count": 25,
      "metadata": {
        "id": "w1WTW0Q_DcwJ"
      },
      "outputs": [],
      "source": [
        "import numpy as np \n",
        "import pandas as pd\n",
        "\n",
        "\n",
        "import seaborn as sn\n",
        "from tensorflow import keras\n",
        "from sklearn.metrics import confusion_matrix, classification_report\n",
        "from keras.models import Sequential\n",
        "from keras.layers import Dense, Dropout, Flatten, Conv2D, MaxPooling2D, BatchNormalization\n",
        "from keras.preprocessing.image import ImageDataGenerator\n",
        "import matplotlib.pyplot as plt\n",
        "\n",
        "def train_model(model, epochs, learning_rate):\n",
        "   checkpoint_filepath = '/tmp/checkpointNew'\n",
        "   earlyStopping = tf.keras.callbacks.EarlyStopping(\n",
        "        patience=5,\n",
        "        monitor=\"val_accuracy\",\n",
        "        verbose=1,)\n",
        "   model_checkpoint_callback = tf.keras.callbacks.ModelCheckpoint(\n",
        "       filepath=checkpoint_filepath,\n",
        "    save_weights_only=True,\n",
        "    monitor='val_accuracy',\n",
        "    mode='max',\n",
        "    save_best_only=True,\n",
        "    save_freq=\"epoch\")\n",
        "   lrd = tf.keras.callbacks.ReduceLROnPlateau(monitor = 'val_loss',patience = 3,verbose = 1,factor = 0.50, min_lr = 1e-10)\n",
        "   adam = keras.optimizers.Adam(learning_rate=learning_rate)\n",
        "   METRICS = [\n",
        "      tf.keras.metrics.BinaryAccuracy(name='accuracy'),\n",
        "      tf.keras.metrics.Precision(name='precision'),\n",
        "      tf.keras.metrics.Recall(name='recall'),  \n",
        "      tf.keras.metrics.AUC(name='auc'),\n",
        "]\n",
        "   model.compile(optimizer=adam, loss='binary_crossentropy', metrics=METRICS)\n",
        "   history = model.fit(training_set, validation_data = valid_set,validation_steps = 100, batch_size = 512, steps_per_epoch= 200,  epochs = epochs,\n",
        "                        callbacks=[model_checkpoint_callback,earlyStopping,lrd])\n",
        "   return history\n",
        "def plot_metrics(model, history, test):\n",
        "    print(\"Accuracy of model on testing data : \" , model.evaluate(test_set)[1]*100 , \"%\")\n",
        "    fig, (ax1, ax2,ax3,ax4,ax5) = plt.subplots(1,5, figsize= (20,5))\n",
        "    fig.suptitle(\" Metrics evaluation of the model \")\n",
        "\n",
        "    ax1.plot(range(1, len(history.history['accuracy']) + 1), history.history['accuracy'])\n",
        "    ax1.plot(range(1, len(history.history['val_accuracy']) + 1), history.history['val_accuracy'])\n",
        "    ax1.set_title('History of Accuracy')\n",
        "    ax1.set_xlabel('Epochs')\n",
        "    ax1.set_ylabel('Accuracy')\n",
        "    ax1.legend(['training', 'validation'])\n",
        "\n",
        "\n",
        "    ax2.plot(range(1, len(history.history['loss']) + 1), history.history['loss'])\n",
        "    ax2.plot(range(1, len(history.history['val_loss']) + 1), history.history['val_loss'])\n",
        "    ax2.set_title('History of Loss')\n",
        "    ax2.set_xlabel('Epochs')\n",
        "    ax2.set_ylabel('Loss')\n",
        "    ax2.legend(['training', 'validation'])\n",
        "    \n",
        "    ax3.plot(range(1, len(history.history['auc']) + 1), history.history['auc'])\n",
        "    ax3.plot(range(1, len(history.history['val_auc']) + 1), history.history['val_auc'])\n",
        "    ax3.set_title('History of AUC')\n",
        "    ax3.set_xlabel('Epochs')\n",
        "    ax3.set_ylabel('AUC')\n",
        "    ax3.legend(['training', 'validation'])\n",
        "    \n",
        "    ax4.plot(range(1, len(history.history['precision']) + 1), history.history['precision'])\n",
        "    ax4.plot(range(1, len(history.history['val_precision']) + 1), history.history['val_precision'])\n",
        "    ax4.set_title('History of Precision')\n",
        "    ax4.set_xlabel('Epochs')\n",
        "    ax4.set_ylabel('Precision')\n",
        "    ax4.legend(['training', 'validation'])\n",
        "\n",
        "    ax5.plot(range(1, len(history.history['recall']) + 1), history.history['recall'])\n",
        "    ax5.plot(range(1, len(history.history['val_recall']) + 1), history.history['val_recall'])\n",
        "    ax5.set_title('History of Recall')\n",
        "    ax5.set_xlabel('Epochs')\n",
        "    ax5.set_ylabel('Recall')\n",
        "    ax5.legend(['training', 'validation'])\n",
        "    plt.show()\n",
        "def test_model(model, test_set):\n",
        "    y_pred = model.predict(test_set)\n",
        "    y_result = []\n",
        "    for p in y_pred:\n",
        "        y_result.append(int(p >= 0.5))\n",
        "    \n",
        "    y_actual = []\n",
        "    for i in range(len(test_set)):\n",
        "        for p in test_set[i][1]:\n",
        "            y_actual.append(int(p >= 0.5))\n",
        "    \n",
        "    print(classification_report(y_actual, y_result))\n",
        "    \n",
        "    cm = tf.math.confusion_matrix(labels = y_actual, predictions = y_result)\n",
        "\n",
        "    plt.figure(figsize = (10, 8))\n",
        "    sn.heatmap(cm, annot = True, fmt = 'd')\n",
        "    plt.xlabel('Predicted')\n",
        "    plt.ylabel('Truth')\n",
        "def CNN( dense_nodes, drop, activation, epochs, lr):\n",
        "    # define model\n",
        "    model = Sequential()\n",
        "    model.add(Conv2D(dense_nodes, (3, 3), activation='relu', input_shape= (128, 128, 3)))\n",
        "    model.add(MaxPooling2D(2, 2))\n",
        "\n",
        "    model.add(Conv2D(dense_nodes/2, (3, 3), activation='relu'))\n",
        "    model.add(MaxPooling2D(2, 2))\n",
        "\n",
        "    model.add(Conv2D(dense_nodes/4, (3, 3), activation='relu'))\n",
        "    model.add(MaxPooling2D(2, 2))\n",
        "\n",
        "    model.add(Conv2D(dense_nodes/8, (3, 3), activation='relu'))\n",
        "    model.add(MaxPooling2D(2, 2))\n",
        "\n",
        "    model.add(Flatten())\n",
        "    model.add(Dropout(drop))\n",
        "    model.add(Dense(50, input_dim=2, activation='relu', kernel_initializer='he_uniform'))\n",
        "    model.add(Dense(1, activation=activation) )\n",
        " \n",
        "    opt = SGD(lr=lr, momentum=0.9)\n",
        "\n",
        "    model.compile(loss='binary_crossentropy', optimizer=opt, metrics=['accuracy'])\n",
        "    model.summary()\n",
        "    history = train_model(model, epochs, lr)\n",
        "    plot_metrics(model, history, test_set)\n",
        "    test_model(model, test_set)\n",
        "\n",
        "    return model\n"
      ]
    },
    {
      "cell_type": "code",
      "execution_count": 26,
      "metadata": {
        "colab": {
          "base_uri": "https://localhost:8080/",
          "height": 1000
        },
        "id": "nbxgP7nv9VtL",
        "outputId": "54ada4d3-6ff2-4853-c1aa-0b740a69842c"
      },
      "outputs": [
        {
          "output_type": "stream",
          "name": "stdout",
          "text": [
            "Model: \"sequential\"\n",
            "_________________________________________________________________\n",
            " Layer (type)                Output Shape              Param #   \n",
            "=================================================================\n",
            " conv2d (Conv2D)             (None, 126, 126, 256)     7168      \n",
            "                                                                 \n",
            " max_pooling2d (MaxPooling2D  (None, 63, 63, 256)      0         \n",
            " )                                                               \n",
            "                                                                 \n",
            " conv2d_1 (Conv2D)           (None, 61, 61, 128)       295040    \n",
            "                                                                 \n",
            " max_pooling2d_1 (MaxPooling  (None, 30, 30, 128)      0         \n",
            " 2D)                                                             \n",
            "                                                                 \n",
            " conv2d_2 (Conv2D)           (None, 28, 28, 64)        73792     \n",
            "                                                                 \n",
            " max_pooling2d_2 (MaxPooling  (None, 14, 14, 64)       0         \n",
            " 2D)                                                             \n",
            "                                                                 \n",
            " conv2d_3 (Conv2D)           (None, 12, 12, 32)        18464     \n",
            "                                                                 \n",
            " max_pooling2d_3 (MaxPooling  (None, 6, 6, 32)         0         \n",
            " 2D)                                                             \n",
            "                                                                 \n",
            " flatten (Flatten)           (None, 1152)              0         \n",
            "                                                                 \n",
            " dropout (Dropout)           (None, 1152)              0         \n",
            "                                                                 \n",
            " dense (Dense)               (None, 50)                57650     \n",
            "                                                                 \n",
            " dense_1 (Dense)             (None, 1)                 51        \n",
            "                                                                 \n",
            "=================================================================\n",
            "Total params: 452,165\n",
            "Trainable params: 452,165\n",
            "Non-trainable params: 0\n",
            "_________________________________________________________________\n"
          ]
        },
        {
          "output_type": "stream",
          "name": "stderr",
          "text": [
            "/usr/local/lib/python3.7/dist-packages/keras/optimizer_v2/gradient_descent.py:102: UserWarning: The `lr` argument is deprecated, use `learning_rate` instead.\n",
            "  super(SGD, self).__init__(name, **kwargs)\n"
          ]
        },
        {
          "output_type": "stream",
          "name": "stdout",
          "text": [
            "Epoch 1/9\n",
            " 10/200 [>.............................] - ETA: 58s - loss: 3.2381 - accuracy: 0.5531 - precision: 0.5789 - recall: 0.5824 - auc: 0.5637 "
          ]
        },
        {
          "output_type": "stream",
          "name": "stderr",
          "text": [
            "/usr/local/lib/python3.7/dist-packages/PIL/TiffImagePlugin.py:788: UserWarning: Corrupt EXIF data.  Expecting to read 4 bytes but only got 0. \n",
            "  warnings.warn(str(msg))\n"
          ]
        },
        {
          "output_type": "stream",
          "name": "stdout",
          "text": [
            "200/200 [==============================] - 100s 442ms/step - loss: 0.8190 - accuracy: 0.6448 - precision: 0.6390 - recall: 0.5949 - auc: 0.6952 - val_loss: 0.4694 - val_accuracy: 0.7218 - val_precision: 0.7187 - val_recall: 0.6704 - val_auc: 0.8473 - lr: 1.0000e-04\n",
            "Epoch 2/9\n",
            "200/200 [==============================] - 85s 425ms/step - loss: 0.4856 - accuracy: 0.7610 - precision: 0.7472 - recall: 0.7547 - auc: 0.8476 - val_loss: 0.4242 - val_accuracy: 0.7996 - val_precision: 0.8437 - val_recall: 0.7103 - val_auc: 0.9063 - lr: 1.0000e-04\n",
            "Epoch 3/9\n",
            "200/200 [==============================] - 83s 419ms/step - loss: 0.3886 - accuracy: 0.8348 - precision: 0.8171 - recall: 0.8382 - auc: 0.9089 - val_loss: 0.2581 - val_accuracy: 0.8925 - val_precision: 0.8951 - val_recall: 0.8763 - val_auc: 0.9598 - lr: 1.0000e-04\n",
            "Epoch 4/9\n",
            "200/200 [==============================] - 88s 444ms/step - loss: 0.3258 - accuracy: 0.8709 - precision: 0.8587 - recall: 0.8717 - auc: 0.9372 - val_loss: 0.1914 - val_accuracy: 0.9338 - val_precision: 0.9242 - val_recall: 0.9367 - val_auc: 0.9788 - lr: 1.0000e-04\n",
            "Epoch 5/9\n",
            "200/200 [==============================] - 82s 409ms/step - loss: 0.2786 - accuracy: 0.8946 - precision: 0.8856 - recall: 0.8948 - auc: 0.9549 - val_loss: 0.1598 - val_accuracy: 0.9320 - val_precision: 0.8935 - val_recall: 0.9754 - val_auc: 0.9874 - lr: 1.0000e-04\n",
            "Epoch 6/9\n",
            "200/200 [==============================] - 82s 411ms/step - loss: 0.2469 - accuracy: 0.9064 - precision: 0.8967 - recall: 0.9067 - auc: 0.9635 - val_loss: 0.1864 - val_accuracy: 0.9373 - val_precision: 0.9085 - val_recall: 0.9639 - val_auc: 0.9775 - lr: 1.0000e-04\n",
            "Epoch 7/9\n",
            "200/200 [==============================] - 79s 398ms/step - loss: 0.2265 - accuracy: 0.9128 - precision: 0.9024 - recall: 0.9147 - auc: 0.9694 - val_loss: 0.1248 - val_accuracy: 0.9522 - val_precision: 0.9327 - val_recall: 0.9674 - val_auc: 0.9903 - lr: 1.0000e-04\n",
            "Epoch 8/9\n",
            "200/200 [==============================] - 81s 404ms/step - loss: 0.2042 - accuracy: 0.9240 - precision: 0.9149 - recall: 0.9254 - auc: 0.9750 - val_loss: 0.1328 - val_accuracy: 0.9487 - val_precision: 0.9509 - val_recall: 0.9425 - val_auc: 0.9894 - lr: 1.0000e-04\n",
            "Epoch 9/9\n",
            "200/200 [==============================] - 80s 401ms/step - loss: 0.1926 - accuracy: 0.9262 - precision: 0.9200 - recall: 0.9274 - auc: 0.9777 - val_loss: 0.1098 - val_accuracy: 0.9619 - val_precision: 0.9638 - val_recall: 0.9542 - val_auc: 0.9924 - lr: 1.0000e-04\n",
            "9/9 [==============================] - 1s 88ms/step - loss: 0.1033 - accuracy: 0.9600 - precision: 1.0000 - recall: 0.9197 - auc: 0.9951\n",
            "Accuracy of model on testing data :  95.99999785423279 %\n"
          ]
        },
        {
          "output_type": "display_data",
          "data": {
            "text/plain": [
              "<Figure size 1440x360 with 5 Axes>"
            ],
            "image/png": "[encoded data removed]"
          },
          "metadata": {
            "needs_background": "light"
          }
        },
        {
          "output_type": "stream",
          "name": "stdout",
          "text": [
            "              precision    recall  f1-score   support\n",
            "\n",
            "           0       0.93      1.00      0.96       138\n",
            "           1       1.00      0.92      0.96       137\n",
            "\n",
            "    accuracy                           0.96       275\n",
            "   macro avg       0.96      0.96      0.96       275\n",
            "weighted avg       0.96      0.96      0.96       275\n",
            "\n"
          ]
        },
        {
          "output_type": "display_data",
          "data": {
            "text/plain": [
              "<Figure size 720x576 with 2 Axes>"
            ],
            "image/png": "[encoded data removed]"
          },
          "metadata": {
            "needs_background": "light"
          }
        }
      ],
      "source": [
        "nodes = 256\n",
        "drop_rate = 0.4\n",
        "activation = 'sigmoid'\n",
        "epochs = 9\n",
        "lr = 0.0001\n",
        "\n",
        "model = CNN( nodes, drop_rate, activation, epochs, lr)\n"
      ]
    },
    {
      "cell_type": "code",
      "execution_count": 27,
      "metadata": {
        "id": "cYF15l2eEt9F"
      },
      "outputs": [],
      "source": [
        "from keras.models import load_model\n",
        "\n",
        "model.save('model_weights.h5')"
      ]
    },
    {
      "cell_type": "code",
      "execution_count": 28,
      "metadata": {
        "id": "MBZOy35MElXG"
      },
      "outputs": [],
      "source": [
        "model_json = model.to_json()\n",
        "with open(\"model.json\",\"w\") as json_file:\n",
        "    json_file.write(\"model_json\")"
      ]
    }
  ],
  "metadata": {
    "accelerator": "GPU",
    "colab": {
      "collapsed_sections": [],
      "provenance": []
    },
    "kernelspec": {
      "display_name": "Python 3",
      "name": "python3"
    },
    "language_info": {
      "name": "python",
      "version": "3.7.9"
    }
  },
  "nbformat": 4,
  "nbformat_minor": 0
}