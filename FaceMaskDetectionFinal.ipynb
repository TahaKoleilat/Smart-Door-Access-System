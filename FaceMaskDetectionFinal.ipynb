{
  "cells": [
    {
      "cell_type": "code",
      "source": [
        "!pip install opendatasets"
      ],
      "metadata": {
        "colab": {
          "base_uri": "https://localhost:8080/"
        },
        "id": "pNK8q5Sk66j6",
        "outputId": "5499a7bd-75a2-44b0-dd35-b24df83998c8"
      },
      "execution_count": 1,
      "outputs": [
        {
          "output_type": "stream",
          "name": "stdout",
          "text": [
            "Looking in indexes: https://pypi.org/simple, https://us-python.pkg.dev/colab-wheels/public/simple/\n",
            "Requirement already satisfied: opendatasets in /usr/local/lib/python3.7/dist-packages (0.1.22)\n",
            "Requirement already satisfied: click in /usr/local/lib/python3.7/dist-packages (from opendatasets) (7.1.2)\n",
            "Requirement already satisfied: kaggle in /usr/local/lib/python3.7/dist-packages (from opendatasets) (1.5.12)\n",
            "Requirement already satisfied: tqdm in /usr/local/lib/python3.7/dist-packages (from opendatasets) (4.64.1)\n",
            "Requirement already satisfied: six>=1.10 in /usr/local/lib/python3.7/dist-packages (from kaggle->opendatasets) (1.15.0)\n",
            "Requirement already satisfied: python-slugify in /usr/local/lib/python3.7/dist-packages (from kaggle->opendatasets) (6.1.2)\n",
            "Requirement already satisfied: urllib3 in /usr/local/lib/python3.7/dist-packages (from kaggle->opendatasets) (1.24.3)\n",
            "Requirement already satisfied: certifi in /usr/local/lib/python3.7/dist-packages (from kaggle->opendatasets) (2022.9.24)\n",
            "Requirement already satisfied: python-dateutil in /usr/local/lib/python3.7/dist-packages (from kaggle->opendatasets) (2.8.2)\n",
            "Requirement already satisfied: requests in /usr/local/lib/python3.7/dist-packages (from kaggle->opendatasets) (2.23.0)\n",
            "Requirement already satisfied: text-unidecode>=1.3 in /usr/local/lib/python3.7/dist-packages (from python-slugify->kaggle->opendatasets) (1.3)\n",
            "Requirement already satisfied: idna<3,>=2.5 in /usr/local/lib/python3.7/dist-packages (from requests->kaggle->opendatasets) (2.10)\n",
            "Requirement already satisfied: chardet<4,>=3.0.2 in /usr/local/lib/python3.7/dist-packages (from requests->kaggle->opendatasets) (3.0.4)\n"
          ]
        }
      ]
    },
    {
      "cell_type": "code",
      "execution_count": 2,
      "metadata": {
        "id": "nRO8uuywLK2N"
      },
      "outputs": [],
      "source": [
        "import pandas as pd\n",
        "import numpy as np\n",
        "import os\n",
        "\n",
        "import matplotlib.pyplot as plt\n",
        "import seaborn as sns\n",
        "\n",
        "import opendatasets as od\n",
        "\n",
        "from keras.preprocessing.image import ImageDataGenerator\n",
        "from keras.layers import Conv2D,Dense, MaxPooling2D,Flatten,Dropout,Activation, BatchNormalization\n",
        "from tensorflow.keras.optimizers import Adam,RMSprop,SGD\n",
        "from keras import regularizers\n",
        "import tensorflow as tf\n",
        "from keras.callbacks import ModelCheckpoint,EarlyStopping,ReduceLROnPlateau\n",
        "import datetime\n",
        "from tensorflow.keras.utils import plot_model"
      ]
    },
    {
      "cell_type": "code",
      "execution_count": 3,
      "metadata": {
        "colab": {
          "base_uri": "https://localhost:8080/"
        },
        "id": "OQnktfffmSXf",
        "outputId": "ed7c284c-3e5a-46ee-ab82-dc366db99736"
      },
      "outputs": [
        {
          "output_type": "stream",
          "name": "stdout",
          "text": [
            "Skipping, found downloaded files in \"dataset1/facemask-dataset\" (use force=True to force download)\n"
          ]
        }
      ],
      "source": [
        "\n",
        "od.download(\"https://www.kaggle.com/datasets/sumansid/facemask-dataset\",data_dir=\"dataset1\")"
      ]
    },
    {
      "cell_type": "code",
      "source": [
        "od.download(\"https://www.kaggle.com/datasets/ahemateja19bec1025/facemask-dataset\",data_dir=\"dataset2\")"
      ],
      "metadata": {
        "id": "uBmsT0bap2vY",
        "colab": {
          "base_uri": "https://localhost:8080/"
        },
        "outputId": "f471ac0a-ce4e-4645-f1d0-c254446d3f24"
      },
      "execution_count": 4,
      "outputs": [
        {
          "output_type": "stream",
          "name": "stdout",
          "text": [
            "Skipping, found downloaded files in \"dataset2/facemask-dataset\" (use force=True to force download)\n"
          ]
        }
      ]
    },
    {
      "cell_type": "code",
      "source": [
        "od.download(\"https://www.kaggle.com/datasets/vinaykudari/facemask\",data_dir=\"dataset3\")"
      ],
      "metadata": {
        "colab": {
          "base_uri": "https://localhost:8080/"
        },
        "id": "5A4H4tKq8T8P",
        "outputId": "c7d09e49-3dd2-4a17-93d8-eb73e840eb0c"
      },
      "execution_count": 5,
      "outputs": [
        {
          "output_type": "stream",
          "name": "stdout",
          "text": [
            "Skipping, found downloaded files in \"dataset3/facemask\" (use force=True to force download)\n"
          ]
        }
      ]
    },
    {
      "cell_type": "code",
      "source": [
        "od.download(\"https://www.kaggle.com/datasets/pranavsingaraju/facemask-detection-dataset-20000-images\",data_dir=\"dataset4\")"
      ],
      "metadata": {
        "colab": {
          "base_uri": "https://localhost:8080/"
        },
        "id": "4nj2SXLl8okP",
        "outputId": "602537e2-3984-4428-af26-52619b193e09"
      },
      "execution_count": 6,
      "outputs": [
        {
          "output_type": "stream",
          "name": "stdout",
          "text": [
            "Skipping, found downloaded files in \"dataset4/facemask-detection-dataset-20000-images\" (use force=True to force download)\n"
          ]
        }
      ]
    },
    {
      "cell_type": "code",
      "source": [
        "od.download(\"https://www.kaggle.com/datasets/ashiqurrahmantanzil/facemask-dataset\",data_dir=\"dataset5\")"
      ],
      "metadata": {
        "colab": {
          "base_uri": "https://localhost:8080/"
        },
        "id": "FvJ-Fx8H8ycf",
        "outputId": "dd334869-b941-4c04-9d8f-88a589e528d8"
      },
      "execution_count": 7,
      "outputs": [
        {
          "output_type": "stream",
          "name": "stdout",
          "text": [
            "Skipping, found downloaded files in \"dataset5/facemask-dataset\" (use force=True to force download)\n"
          ]
        }
      ]
    },
    {
      "cell_type": "code",
      "source": [
        "od.download(\"https://www.kaggle.com/datasets/shiekhburhan/face-mask-dataset\",data_dir=\"dataset6\")"
      ],
      "metadata": {
        "colab": {
          "base_uri": "https://localhost:8080/"
        },
        "id": "NWW3iYXelytH",
        "outputId": "0862ca3d-bf80-4504-c117-ab1b2cfea9d8"
      },
      "execution_count": 8,
      "outputs": [
        {
          "output_type": "stream",
          "name": "stdout",
          "text": [
            "Skipping, found downloaded files in \"dataset6/face-mask-dataset\" (use force=True to force download)\n"
          ]
        }
      ]
    },
    {
      "cell_type": "code",
      "source": [
        "od.download(\"https://www.kaggle.com/datasets/ashishjangra27/face-mask-12k-images-dataset\", data_dir = \"dataset7\")"
      ],
      "metadata": {
        "colab": {
          "base_uri": "https://localhost:8080/"
        },
        "id": "-epxVrFpmMzk",
        "outputId": "97110d49-ca06-403d-be90-ee21b10abfd5"
      },
      "execution_count": 9,
      "outputs": [
        {
          "output_type": "stream",
          "name": "stdout",
          "text": [
            "Skipping, found downloaded files in \"dataset7/face-mask-12k-images-dataset\" (use force=True to force download)\n"
          ]
        }
      ]
    },
    {
      "cell_type": "code",
      "source": [
        "od.download(\"https://www.kaggle.com/datasets/spandanpatnaik09/face-mask-detectormask-not-mask-incorrect-mask\",data_dir = \"dataset8\")"
      ],
      "metadata": {
        "colab": {
          "base_uri": "https://localhost:8080/"
        },
        "id": "iEXrn6njmNKZ",
        "outputId": "fd53cba2-3ec0-45eb-e892-94c1034e4f99"
      },
      "execution_count": 10,
      "outputs": [
        {
          "output_type": "stream",
          "name": "stdout",
          "text": [
            "Skipping, found downloaded files in \"dataset8/face-mask-detectormask-not-mask-incorrect-mask\" (use force=True to force download)\n"
          ]
        }
      ]
    },
    {
      "cell_type": "code",
      "execution_count": 11,
      "metadata": {
        "id": "QGrg4JrcOrR4"
      },
      "outputs": [],
      "source": [
        "train_datagen = ImageDataGenerator(preprocessing_function=tf.keras.applications.resnet50.preprocess_input,\n",
        "                                   validation_split = 0.2, rotation_range=2,\n",
        "        width_shift_range=0.2,\n",
        "        height_shift_range=0.2,\n",
        "        shear_range=0.2,\n",
        "        zoom_range=0.2,\n",
        "        fill_mode='nearest')"
      ]
    },
    {
      "cell_type": "code",
      "execution_count": 12,
      "metadata": {
        "id": "fBHSpZu4krXX"
      },
      "outputs": [],
      "source": [
        "valid_datagen = ImageDataGenerator(preprocessing_function=tf.keras.applications.resnet50.preprocess_input,validation_split=0.2)"
      ]
    },
    {
      "cell_type": "code",
      "execution_count": 13,
      "metadata": {
        "colab": {
          "base_uri": "https://localhost:8080/"
        },
        "id": "Cn1LAOS6-gZx",
        "outputId": "9e9747f5-3dcc-4e2d-9fac-87f1387f0f91"
      },
      "outputs": [
        {
          "output_type": "stream",
          "name": "stdout",
          "text": [
            "Found 270 images belonging to 2 classes.\n",
            "Found 67 images belonging to 2 classes.\n"
          ]
        }
      ],
      "source": [
        "train_dataset1  = train_datagen.flow_from_directory(directory = '/content/dataset1/facemask-dataset',\n",
        "                                                   class_mode = 'binary',\n",
        "                                                   color_mode=\"rgb\",\n",
        "                                                    subset=\"training\",\n",
        "                                                     target_size = (224,224),\n",
        "                                                   classes={'Mask': 0,'No Mask': 1})\n",
        "valid_dataset1 = valid_datagen.flow_from_directory(directory = '/content/dataset1/facemask-dataset',\n",
        "                                                  class_mode = 'binary',\n",
        "                                                  subset = 'validation',\n",
        "                                                  color_mode=\"rgb\",\n",
        "                                                    target_size = (224,224),\n",
        "                                                  classes={'Mask': 0,'No Mask': 1})"
      ]
    },
    {
      "cell_type": "code",
      "source": [
        "train_datagen = ImageDataGenerator(preprocessing_function=tf.keras.applications.resnet50.preprocess_input,\n",
        "                                   validation_split = 0.2, rotation_range=2,\n",
        "        width_shift_range=0.2,\n",
        "        height_shift_range=0.2,\n",
        "        shear_range=0.2,\n",
        "        zoom_range=0.2,\n",
        "        fill_mode='nearest')\n",
        "valid_datagen = ImageDataGenerator(preprocessing_function=tf.keras.applications.resnet50.preprocess_input,validation_split=0.2)\n",
        "train_dataset2  = train_datagen.flow_from_directory(directory = '/content/dataset2/facemask-dataset/dataset/dataset',\n",
        "                                                   class_mode = 'binary',\n",
        "                                                   color_mode=\"rgb\",\n",
        "                                                    subset=\"training\",\n",
        "                                                     target_size = (224,224),\n",
        "                                                   classes={'1': 0,'0': 1})\n",
        "valid_dataset2 = valid_datagen.flow_from_directory(directory = '/content/dataset2/facemask-dataset/dataset/dataset',\n",
        "                                                  class_mode = 'binary',\n",
        "                                                  subset = 'validation',\n",
        "                                                  color_mode=\"rgb\",\n",
        "                                                    target_size = (224,224),\n",
        "                                                  classes={'1': 0,'0': 1})"
      ],
      "metadata": {
        "colab": {
          "base_uri": "https://localhost:8080/"
        },
        "id": "cqLOqtGDMfQm",
        "outputId": "e28bce2c-853b-4247-96b1-e37fde14a2c1"
      },
      "execution_count": 14,
      "outputs": [
        {
          "output_type": "stream",
          "name": "stdout",
          "text": [
            "Found 1101 images belonging to 2 classes.\n",
            "Found 275 images belonging to 2 classes.\n"
          ]
        }
      ]
    },
    {
      "cell_type": "code",
      "source": [
        "train_datagen = ImageDataGenerator(preprocessing_function=tf.keras.applications.resnet50.preprocess_input,\n",
        "                                   validation_split = 0.2, rotation_range=2,\n",
        "        width_shift_range=0.2,\n",
        "        height_shift_range=0.2,\n",
        "        shear_range=0.2,\n",
        "        zoom_range=0.2,\n",
        "        fill_mode='nearest')\n",
        "valid_datagen = ImageDataGenerator(preprocessing_function=tf.keras.applications.resnet50.preprocess_input,validation_split=0.2)\n",
        "train_dataset3  = train_datagen.flow_from_directory(directory = '/content/dataset3/facemask/train',\n",
        "                                                   class_mode = 'binary',\n",
        "                                                   color_mode=\"rgb\",\n",
        "                                                    subset=\"training\",\n",
        "                                                     target_size = (224,224),\n",
        "                                                   classes={'with_mask': 0,'without_mask': 1})\n",
        "valid_dataset3 = valid_datagen.flow_from_directory(directory = '/content/dataset3/facemask/train',\n",
        "                                                  class_mode = 'binary',\n",
        "                                                  subset = 'validation',\n",
        "                                                  color_mode=\"rgb\",\n",
        "                                                    target_size = (224,224),\n",
        "                                                  classes={'with_mask': 0,'without_mask': 1})"
      ],
      "metadata": {
        "colab": {
          "base_uri": "https://localhost:8080/"
        },
        "id": "kkjdK_-6M9JL",
        "outputId": "427f14fa-d11d-40a2-a732-bac22572e859"
      },
      "execution_count": 15,
      "outputs": [
        {
          "output_type": "stream",
          "name": "stdout",
          "text": [
            "Found 435 images belonging to 2 classes.\n",
            "Found 108 images belonging to 2 classes.\n"
          ]
        }
      ]
    },
    {
      "cell_type": "code",
      "source": [
        "train_datagen = ImageDataGenerator(preprocessing_function=tf.keras.applications.resnet50.preprocess_input,\n",
        "                                   validation_split = 0.2, rotation_range=2,\n",
        "        width_shift_range=0.2,\n",
        "        height_shift_range=0.2,\n",
        "        shear_range=0.2,\n",
        "        zoom_range=0.2,\n",
        "        fill_mode='nearest')\n",
        "valid_datagen = ImageDataGenerator(preprocessing_function=tf.keras.applications.resnet50.preprocess_input,validation_split=0.2)\n",
        "train_dataset4  = train_datagen.flow_from_directory(directory = '/content/dataset4/facemask-detection-dataset-20000-images',\n",
        "                                                   class_mode = 'binary',\n",
        "                                                   color_mode=\"rgb\",\n",
        "                                                    subset=\"training\",\n",
        "                                                     target_size = (224,224),\n",
        "                                                   classes={'new_with_mask': 0,'new_without_mask': 1})\n",
        "valid_dataset4 = valid_datagen.flow_from_directory(directory = '/content/dataset4/facemask-detection-dataset-20000-images',\n",
        "                                                  class_mode = 'binary',\n",
        "                                                  subset = 'validation',\n",
        "                                                  color_mode=\"rgb\",\n",
        "                                                    target_size = (224,224),\n",
        "                                                  classes={'new_with_mask': 0,'new_without_mask': 1})"
      ],
      "metadata": {
        "colab": {
          "base_uri": "https://localhost:8080/"
        },
        "id": "ozPM7BDDNW-j",
        "outputId": "ab08ce1e-3568-4e9d-b5bd-429511f15404"
      },
      "execution_count": 16,
      "outputs": [
        {
          "output_type": "stream",
          "name": "stdout",
          "text": [
            "Found 16000 images belonging to 2 classes.\n",
            "Found 4000 images belonging to 2 classes.\n"
          ]
        }
      ]
    },
    {
      "cell_type": "code",
      "source": [
        "train_datagen = ImageDataGenerator(preprocessing_function=tf.keras.applications.resnet50.preprocess_input,\n",
        "                                   validation_split = 0.2, rotation_range=2,\n",
        "        width_shift_range=0.2,\n",
        "        height_shift_range=0.2,\n",
        "        shear_range=0.2,\n",
        "        zoom_range=0.2,\n",
        "        fill_mode='nearest')\n",
        "valid_datagen = ImageDataGenerator(preprocessing_function=tf.keras.applications.resnet50.preprocess_input,validation_split=0.2)\n",
        "train_dataset5  = train_datagen.flow_from_directory(directory = '/content/dataset5/facemask-dataset/dataset_final',\n",
        "                                                   class_mode = 'binary',\n",
        "                                                   color_mode=\"rgb\",\n",
        "                                                    subset=\"training\",\n",
        "                                                     target_size = (224,224),\n",
        "                                                   classes={'with_mask': 0,'without_mask': 1})\n",
        "valid_dataset5 = valid_datagen.flow_from_directory(directory = '/content/dataset5/facemask-dataset/dataset_final',\n",
        "                                                  class_mode = 'binary',\n",
        "                                                  subset = 'validation',\n",
        "                                                  color_mode=\"rgb\",\n",
        "                                                    target_size = (224,224),\n",
        "                                                 shuffle = False,\n",
        "                                                  classes={'with_mask': 0,'without_mask': 1})"
      ],
      "metadata": {
        "colab": {
          "base_uri": "https://localhost:8080/"
        },
        "id": "hsfGYC2qNgy0",
        "outputId": "8aef0e69-a0dc-4857-a36f-4a122e135d7e"
      },
      "execution_count": 17,
      "outputs": [
        {
          "output_type": "stream",
          "name": "stdout",
          "text": [
            "Found 11869 images belonging to 2 classes.\n",
            "Found 2966 images belonging to 2 classes.\n"
          ]
        }
      ]
    },
    {
      "cell_type": "code",
      "source": [
        "train_datagen = ImageDataGenerator(preprocessing_function=tf.keras.applications.resnet50.preprocess_input,\n",
        "                                   validation_split = 0.2, rotation_range=2,\n",
        "        width_shift_range=0.2,\n",
        "        height_shift_range=0.2,\n",
        "        shear_range=0.2,\n",
        "        zoom_range=0.2,\n",
        "        fill_mode='nearest')\n",
        "valid_datagen = ImageDataGenerator(preprocessing_function=tf.keras.applications.resnet50.preprocess_input,validation_split=0.2)\n",
        "train_dataset6  = train_datagen.flow_from_directory(directory = '/content/dataset6/face-mask-dataset/FMD_DATASET',\n",
        "                                                   class_mode = 'binary',\n",
        "                                                   color_mode=\"rgb\",\n",
        "                                                    subset=\"training\",\n",
        "                                                     target_size = (224,224),\n",
        "                                                   classes={'with_mask': 0,'without_mask': 1})\n",
        "test_dataset6 = valid_datagen.flow_from_directory(directory = '/content/dataset6/face-mask-dataset/FMD_DATASET',\n",
        "                                                  class_mode = 'binary',\n",
        "                                                  subset = 'validation',\n",
        "                                                  color_mode=\"rgb\",\n",
        "                                                    target_size = (224,224),\n",
        "                                                 shuffle = False,\n",
        "                                                  classes={'with_mask': 0,'without_mask': 1})"
      ],
      "metadata": {
        "colab": {
          "base_uri": "https://localhost:8080/"
        },
        "id": "p_ZoNXwMmdJV",
        "outputId": "4766d5f2-4959-4b66-89fe-45f7a56d87b4"
      },
      "execution_count": 18,
      "outputs": [
        {
          "output_type": "stream",
          "name": "stdout",
          "text": [
            "Found 7630 images belonging to 2 classes.\n",
            "Found 1906 images belonging to 2 classes.\n"
          ]
        }
      ]
    },
    {
      "cell_type": "code",
      "source": [
        "train_datagen = ImageDataGenerator(preprocessing_function=tf.keras.applications.resnet50.preprocess_input,\n",
        "                                   validation_split = 0.2, rotation_range=2,\n",
        "        width_shift_range=0.2,\n",
        "        height_shift_range=0.2,\n",
        "        shear_range=0.2,\n",
        "        zoom_range=0.2,\n",
        "        fill_mode='nearest')\n",
        "valid_datagen = ImageDataGenerator(preprocessing_function=tf.keras.applications.resnet50.preprocess_input,validation_split=0.2)\n",
        "train_dataset7  = train_datagen.flow_from_directory(directory = '/content/dataset7/face-mask-12k-images-dataset/Face Mask Dataset/Train',\n",
        "                                                   class_mode = 'binary',\n",
        "                                                   color_mode=\"rgb\",\n",
        "                                                    subset=\"training\",\n",
        "                                                     target_size = (224,224),\n",
        "                                                   classes={'WithMask': 0,'WithoutMask': 1})\n",
        "test_dataset7 = valid_datagen.flow_from_directory(directory = '/content/dataset7/face-mask-12k-images-dataset/Face Mask Dataset/Train',\n",
        "                                                  class_mode = 'binary',\n",
        "                                                  subset = 'validation',\n",
        "                                                  color_mode=\"rgb\",\n",
        "                                                    target_size = (224,224),\n",
        "                                                 shuffle = False,\n",
        "                                                  classes={'WithMask': 0,'WithoutMask': 1})"
      ],
      "metadata": {
        "colab": {
          "base_uri": "https://localhost:8080/"
        },
        "id": "pfbnpU44mdd3",
        "outputId": "9837e791-6dce-4e26-8f61-699921d1ea1a"
      },
      "execution_count": 19,
      "outputs": [
        {
          "output_type": "stream",
          "name": "stdout",
          "text": [
            "Found 8000 images belonging to 2 classes.\n",
            "Found 2000 images belonging to 2 classes.\n"
          ]
        }
      ]
    },
    {
      "cell_type": "code",
      "source": [
        "train_datagen = ImageDataGenerator(preprocessing_function=tf.keras.applications.resnet50.preprocess_input,\n",
        "                                   validation_split = 0.2, rotation_range=2,\n",
        "        width_shift_range=0.2,\n",
        "        height_shift_range=0.2,\n",
        "        shear_range=0.2,\n",
        "        zoom_range=0.2,\n",
        "        fill_mode='nearest')\n",
        "valid_datagen = ImageDataGenerator(preprocessing_function=tf.keras.applications.resnet50.preprocess_input,validation_split=0.2)\n",
        "train_dataset8  = train_datagen.flow_from_directory(directory = '/content/dataset8/face-mask-detectormask-not-mask-incorrect-mask/dataset',\n",
        "                                                   class_mode = 'binary',\n",
        "                                                   color_mode=\"rgb\",\n",
        "                                                    subset=\"training\",\n",
        "                                                     target_size = (224,224),\n",
        "                                                   classes={'with_mask': 0,'without_mask': 1})\n",
        "test_dataset8 = valid_datagen.flow_from_directory(directory = '/content/dataset8/face-mask-detectormask-not-mask-incorrect-mask/dataset',\n",
        "                                                  class_mode = 'binary',\n",
        "                                                  subset = 'validation',\n",
        "                                                  color_mode=\"rgb\",\n",
        "                                                    target_size = (224,224),\n",
        "                                                 shuffle = False,\n",
        "                                                  classes={'with_mask': 0,'without_mask': 1})"
      ],
      "metadata": {
        "colab": {
          "base_uri": "https://localhost:8080/"
        },
        "id": "3Fkbqn0wmeX5",
        "outputId": "e5dd3be8-0be2-4e23-9c3c-caca688fb686"
      },
      "execution_count": 20,
      "outputs": [
        {
          "output_type": "stream",
          "name": "stdout",
          "text": [
            "Found 1101 images belonging to 2 classes.\n",
            "Found 275 images belonging to 2 classes.\n"
          ]
        }
      ]
    },
    {
      "cell_type": "code",
      "source": [
        "def combine_gen(*gens):\n",
        "    while True:\n",
        "        for g in gens:\n",
        "            yield next(g)"
      ],
      "metadata": {
        "id": "cL3YrW0QNrkC"
      },
      "execution_count": 21,
      "outputs": []
    },
    {
      "cell_type": "code",
      "source": [
        "training_set = combine_gen(train_dataset1,train_dataset2,train_dataset3,train_dataset4,train_dataset5,train_dataset6,train_dataset7,train_dataset8)\n",
        "valid_set =  combine_gen(valid_dataset1,valid_dataset2,valid_dataset3,valid_dataset4,valid_dataset5)\n",
        "test_set = combine_gen(test_dataset6,test_dataset7,test_dataset8)"
      ],
      "metadata": {
        "id": "G4FK9g_xN7UM"
      },
      "execution_count": 22,
      "outputs": []
    },
    {
      "cell_type": "code",
      "execution_count": 23,
      "metadata": {
        "id": "w1WTW0Q_DcwJ"
      },
      "outputs": [],
      "source": [
        "import numpy as np \n",
        "import pandas as pd\n",
        "\n",
        "\n",
        "import seaborn as sn\n",
        "from tensorflow import keras\n",
        "from sklearn.metrics import confusion_matrix, classification_report\n",
        "from keras.models import Sequential\n",
        "from keras.layers import Dense, Dropout, Flatten, Conv2D, MaxPooling2D, BatchNormalization\n",
        "from keras.preprocessing.image import ImageDataGenerator\n",
        "import matplotlib.pyplot as plt\n",
        "\n",
        "def train_model(model, epochs, learning_rate):\n",
        "   checkpoint_filepath = '/tmp/checkpointNew'\n",
        "   earlyStopping = tf.keras.callbacks.EarlyStopping(\n",
        "        patience=5,\n",
        "        monitor=\"val_accuracy\",\n",
        "        verbose=1,)\n",
        "   model_checkpoint_callback = tf.keras.callbacks.ModelCheckpoint(\n",
        "       filepath=checkpoint_filepath,\n",
        "    save_weights_only=True,\n",
        "    monitor='val_accuracy',\n",
        "    mode='max',\n",
        "    save_best_only=True,\n",
        "    save_freq=\"epoch\")\n",
        "   lrd = tf.keras.callbacks.ReduceLROnPlateau(monitor = 'val_loss',patience = 3,verbose = 1,factor = 0.50, min_lr = 1e-10)\n",
        "   adam = keras.optimizers.Adam(learning_rate=learning_rate)\n",
        "   METRICS = [\n",
        "      tf.keras.metrics.BinaryAccuracy(name='accuracy'),\n",
        "      tf.keras.metrics.Precision(name='precision'),\n",
        "      tf.keras.metrics.Recall(name='recall'),  \n",
        "      tf.keras.metrics.AUC(name='auc'),\n",
        "]\n",
        "   model.compile(optimizer=adam, loss='binary_crossentropy', metrics=METRICS)\n",
        "   history = model.fit(training_set, validation_data = valid_set,validation_steps = 100, batch_size = 512, steps_per_epoch= 200,  epochs = epochs,\n",
        "                        callbacks=[model_checkpoint_callback,earlyStopping,lrd])\n",
        "   return history\n",
        "def plot_metrics(model, history, test):\n",
        "    print(\"Accuracy of model on testing data : \" , model.evaluate(test_set)[1]*100 , \"%\")\n",
        "    fig, (ax1, ax2,ax3,ax4,ax5) = plt.subplots(1,5, figsize= (20,5))\n",
        "    fig.suptitle(\" Metrics evaluation of the model \")\n",
        "\n",
        "    ax1.plot(range(1, len(history.history['accuracy']) + 1), history.history['accuracy'])\n",
        "    ax1.plot(range(1, len(history.history['val_accuracy']) + 1), history.history['val_accuracy'])\n",
        "    ax1.set_title('History of Accuracy')\n",
        "    ax1.set_xlabel('Epochs')\n",
        "    ax1.set_ylabel('Accuracy')\n",
        "    ax1.legend(['training', 'validation'])\n",
        "\n",
        "\n",
        "    ax2.plot(range(1, len(history.history['loss']) + 1), history.history['loss'])\n",
        "    ax2.plot(range(1, len(history.history['val_loss']) + 1), history.history['val_loss'])\n",
        "    ax2.set_title('History of Loss')\n",
        "    ax2.set_xlabel('Epochs')\n",
        "    ax2.set_ylabel('Loss')\n",
        "    ax2.legend(['training', 'validation'])\n",
        "    \n",
        "    ax3.plot(range(1, len(history.history['auc']) + 1), history.history['auc'])\n",
        "    ax3.plot(range(1, len(history.history['val_auc']) + 1), history.history['val_auc'])\n",
        "    ax3.set_title('History of AUC')\n",
        "    ax3.set_xlabel('Epochs')\n",
        "    ax3.set_ylabel('AUC')\n",
        "    ax3.legend(['training', 'validation'])\n",
        "    \n",
        "    ax4.plot(range(1, len(history.history['precision']) + 1), history.history['precision'])\n",
        "    ax4.plot(range(1, len(history.history['val_precision']) + 1), history.history['val_precision'])\n",
        "    ax4.set_title('History of Precision')\n",
        "    ax4.set_xlabel('Epochs')\n",
        "    ax4.set_ylabel('Precision')\n",
        "    ax4.legend(['training', 'validation'])\n",
        "\n",
        "    ax5.plot(range(1, len(history.history['recall']) + 1), history.history['recall'])\n",
        "    ax5.plot(range(1, len(history.history['val_recall']) + 1), history.history['val_recall'])\n",
        "    ax5.set_title('History of Recall')\n",
        "    ax5.set_xlabel('Epochs')\n",
        "    ax5.set_ylabel('Recall')\n",
        "    ax5.legend(['training', 'validation'])\n",
        "    plt.show()\n",
        "def test_model(model, test_set):\n",
        "    y_pred = model.predict(test_set)\n",
        "    y_result = []\n",
        "    for p in y_pred:\n",
        "        y_result.append(int(p >= 0.5))\n",
        "    \n",
        "    y_actual = []\n",
        "    for i in range(len(test_set)):\n",
        "        for p in test_set[i][1]:\n",
        "            y_actual.append(int(p >= 0.5))\n",
        "    \n",
        "    print(classification_report(y_actual, y_result))\n",
        "    \n",
        "    cm = tf.math.confusion_matrix(labels = y_actual, predictions = y_result)\n",
        "\n",
        "    plt.figure(figsize = (10, 8))\n",
        "    sn.heatmap(cm, annot = True, fmt = 'd')\n",
        "    plt.xlabel('Predicted')\n",
        "    plt.ylabel('Truth')\n",
        "\n",
        "def CNN( dense_nodes, drop, activation, epochs, lr):\n",
        "    # define model\n",
        "    model = Sequential()\n",
        "    model.add(Conv2D(dense_nodes, (3, 3), activation='relu', input_shape= (224, 224, 3)))\n",
        "    model.add(MaxPooling2D(2, 2))\n",
        "\n",
        "    model.add(Conv2D(dense_nodes/2, (3, 3), activation='relu'))\n",
        "    model.add(MaxPooling2D(2, 2))\n",
        "\n",
        "    model.add(Conv2D(dense_nodes/4, (3, 3), activation='relu'))\n",
        "    model.add(MaxPooling2D(2, 2))\n",
        "\n",
        "    model.add(Conv2D(dense_nodes/8, (3, 3), activation='relu'))\n",
        "    model.add(MaxPooling2D(2, 2))\n",
        "\n",
        "    model.add(Flatten())\n",
        "    model.add(Dropout(drop))\n",
        "    model.add(Dense(50, input_dim=2, activation='relu', kernel_initializer='he_uniform'))\n",
        "    model.add(Dense(1, activation=activation) )\n",
        " \n",
        "    opt = SGD(lr=lr, momentum=0.9)\n",
        "\n",
        "    model.compile(loss='binary_crossentropy', optimizer=opt, metrics=['accuracy'])\n",
        "    model.summary()\n",
        "    history = train_model(model, epochs, lr)\n",
        "    plot_metrics(model, history, test_set)\n",
        "    test_model(model, test_set)\n",
        "\n",
        "    return model\n"
      ]
    },
    {
      "cell_type": "code",
      "execution_count": null,
      "metadata": {
        "colab": {
          "base_uri": "https://localhost:8080/"
        },
        "id": "nbxgP7nv9VtL",
        "outputId": "0e025de1-0dc3-4c0f-92ac-bc1936f8c0c4"
      },
      "outputs": [
        {
          "output_type": "stream",
          "name": "stdout",
          "text": [
            "Model: \"sequential\"\n",
            "_________________________________________________________________\n",
            " Layer (type)                Output Shape              Param #   \n",
            "=================================================================\n",
            " conv2d (Conv2D)             (None, 222, 222, 256)     7168      \n",
            "                                                                 \n",
            " max_pooling2d (MaxPooling2D  (None, 111, 111, 256)    0         \n",
            " )                                                               \n",
            "                                                                 \n",
            " conv2d_1 (Conv2D)           (None, 109, 109, 128)     295040    \n",
            "                                                                 \n",
            " max_pooling2d_1 (MaxPooling  (None, 54, 54, 128)      0         \n",
            " 2D)                                                             \n",
            "                                                                 \n",
            " conv2d_2 (Conv2D)           (None, 52, 52, 64)        73792     \n",
            "                                                                 \n",
            " max_pooling2d_2 (MaxPooling  (None, 26, 26, 64)       0         \n",
            " 2D)                                                             \n",
            "                                                                 \n",
            " conv2d_3 (Conv2D)           (None, 24, 24, 32)        18464     \n",
            "                                                                 \n",
            " max_pooling2d_3 (MaxPooling  (None, 12, 12, 32)       0         \n",
            " 2D)                                                             \n",
            "                                                                 \n",
            " flatten (Flatten)           (None, 4608)              0         \n",
            "                                                                 \n",
            " dropout (Dropout)           (None, 4608)              0         \n",
            "                                                                 \n",
            " dense (Dense)               (None, 50)                230450    \n",
            "                                                                 \n",
            " dense_1 (Dense)             (None, 1)                 51        \n",
            "                                                                 \n",
            "=================================================================\n",
            "Total params: 624,965\n",
            "Trainable params: 624,965\n",
            "Non-trainable params: 0\n",
            "_________________________________________________________________\n"
          ]
        },
        {
          "output_type": "stream",
          "name": "stderr",
          "text": [
            "/usr/local/lib/python3.7/dist-packages/keras/optimizers/optimizer_v2/gradient_descent.py:108: UserWarning: The `lr` argument is deprecated, use `learning_rate` instead.\n",
            "  super(SGD, self).__init__(name, **kwargs)\n"
          ]
        },
        {
          "output_type": "stream",
          "name": "stdout",
          "text": [
            "Epoch 1/2\n",
            " 32/200 [===>..........................] - ETA: 2:15 - loss: 1.5730 - accuracy: 0.5869 - precision: 0.5586 - recall: 0.5481 - auc: 0.5983"
          ]
        },
        {
          "output_type": "stream",
          "name": "stderr",
          "text": [
            "/usr/local/lib/python3.7/dist-packages/PIL/TiffImagePlugin.py:788: UserWarning: Corrupt EXIF data.  Expecting to read 4 bytes but only got 0. \n",
            "  warnings.warn(str(msg))\n"
          ]
        },
        {
          "output_type": "stream",
          "name": "stdout",
          "text": [
            " 64/200 [========>.....................] - ETA: 1:34 - loss: 1.1102 - accuracy: 0.6294 - precision: 0.6007 - recall: 0.5822 - auc: 0.6537"
          ]
        }
      ],
      "source": [
        "nodes = 256\n",
        "drop_rate = 0.4\n",
        "activation = 'sigmoid'\n",
        "epochs = 2\n",
        "lr = 0.0001\n",
        "\n",
        "model = CNN( nodes, drop_rate, activation, epochs, lr)\n"
      ]
    },
    {
      "cell_type": "code",
      "execution_count": null,
      "metadata": {
        "id": "cYF15l2eEt9F"
      },
      "outputs": [],
      "source": [
        "from keras.models import load_model\n",
        "\n",
        "model.save('model_weights.h5')"
      ]
    },
    {
      "cell_type": "code",
      "execution_count": null,
      "metadata": {
        "id": "MBZOy35MElXG"
      },
      "outputs": [],
      "source": [
        "model_json = model.to_json()\n",
        "with open(\"model.json\",\"w\") as json_file:\n",
        "    json_file.write(model_json)"
      ]
    }
  ],
  "metadata": {
    "accelerator": "GPU",
    "colab": {
      "collapsed_sections": [],
      "provenance": []
    },
    "kernelspec": {
      "display_name": "Python 3",
      "name": "python3"
    },
    "language_info": {
      "name": "python",
      "version": "3.7.9"
    }
  },
  "nbformat": 4,
  "nbformat_minor": 0
}