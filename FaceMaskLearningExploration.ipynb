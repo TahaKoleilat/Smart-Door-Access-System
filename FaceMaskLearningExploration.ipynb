{
  "nbformat": 4,
  "nbformat_minor": 0,
  "metadata": {
    "colab": {
      "provenance": [],
      "collapsed_sections": []
    },
    "kernelspec": {
      "name": "python3",
      "display_name": "Python 3"
    },
    "language_info": {
      "name": "python"
    }
  },
  "cells": [
    {
      "cell_type": "code",
      "execution_count": 1,
      "metadata": {
        "id": "pRAzPu5HQFXI"
      },
      "outputs": [],
      "source": [
        "# imports\n",
        "import numpy as np\n",
        "from PIL import Image\n",
        "from numpy import asarray\n",
        "from sklearn.model_selection import train_test_split\n",
        "import os\n",
        "import seaborn as sn\n",
        "import matplotlib.pyplot as plt\n",
        "import tensorflow as tf\n",
        "from tensorflow import keras\n",
        "from sklearn.metrics import confusion_matrix, classification_report\n",
        "from keras.models import Sequential\n",
        "from keras.layers import Dense, Dropout, Flatten, Conv2D, MaxPooling2D, BatchNormalization\n",
        "from keras.optimizers import SGD"
      ]
    },
    {
      "cell_type": "code",
      "source": [
        "NumberModlesToTest = 10"
      ],
      "metadata": {
        "id": "UgJUOR7cg6Z-"
      },
      "execution_count": 2,
      "outputs": []
    },
    {
      "cell_type": "code",
      "source": [
        "# mountin google Drive\n",
        "from google.colab import drive\n",
        "drive.mount('/content/drive')"
      ],
      "metadata": {
        "colab": {
          "base_uri": "https://localhost:8080/"
        },
        "id": "MqN-YRFBRmCo",
        "outputId": "f72a804d-6700-4284-a209-e7948b0acc34"
      },
      "execution_count": 3,
      "outputs": [
        {
          "output_type": "stream",
          "name": "stdout",
          "text": [
            "Drive already mounted at /content/drive; to attempt to forcibly remount, call drive.mount(\"/content/drive\", force_remount=True).\n"
          ]
        }
      ]
    },
    {
      "cell_type": "code",
      "source": [
        "# change directory of dataset based on the drive\n",
        "DIRECTORY = \"/content/drive/MyDrive/MaskDataset\"\n",
        "CATEGORIES = [\"with_mask\", \"without_mask\"]"
      ],
      "metadata": {
        "id": "voXfbZ4HSzRX"
      },
      "execution_count": 4,
      "outputs": []
    },
    {
      "cell_type": "code",
      "source": [
        "# grab the list of images in our dataset directory, then initialize\n",
        "# the list of data (i.e., images) and class images\n",
        "data = []\n",
        "labels = []\n",
        "\n",
        "for category in CATEGORIES:\n",
        "    path = os.path.join(DIRECTORY, category)\n",
        "    for img in os.listdir(path):\n",
        "        img_path = os.path.join(path, img)\n",
        "        # load the image\n",
        "        image = Image.open(img_path).resize((224, 224))\n",
        "       \n",
        "        # convert image to numpy array\n",
        "        image_data = asarray(image)\n",
        "        data.append(image_data.reshape((224,224,3)))\n",
        "\n",
        "        # perform one-hot encoding on the labels\n",
        "        if category == \"with_mask\":\n",
        "            labels.append(0)\n",
        "        else:\n",
        "            labels.append(1)\n",
        "\n",
        "\n",
        "data = np.array(data, dtype=\"float32\")\n",
        "labels = np.array(labels)\n",
        "\n",
        "X_train, X_test, y_train, y_test = train_test_split(data, labels, test_size=0.33, random_state=42)"
      ],
      "metadata": {
        "id": "uT88TVTtTHqk"
      },
      "execution_count": 5,
      "outputs": []
    },
    {
      "cell_type": "code",
      "source": [
        "def test_model(model, X_test, y_test):\n",
        "    y_pred = model.predict(X_test)\n",
        "    y_result = []\n",
        "    for p in y_pred:\n",
        "        y_result.append(int(p >= 0.5))\n",
        "    \n",
        "    y_actual = y_test\n",
        "    \n",
        "    print(classification_report(y_actual, y_result))\n",
        "    \n",
        "    cm = tf.math.confusion_matrix(labels = y_actual, predictions = y_result)\n",
        "\n",
        "    plt.figure(figsize = (10, 8))\n",
        "    sn.heatmap(cm, annot = True, fmt = 'd')\n",
        "    plt.xlabel('Predicted')\n",
        "    plt.ylabel('Truth')"
      ],
      "metadata": {
        "id": "zcWZ8lcZXJqY"
      },
      "execution_count": 6,
      "outputs": []
    },
    {
      "cell_type": "code",
      "source": [
        "def Model(layers, dense_nodes, drop, activation, epochs, lr , X_train, X_test, y_train, y_test, validation_split,batch_size):\n",
        "    # define model\n",
        "    model = Sequential()\n",
        "    model.add(Conv2D(dense_nodes, (3, 3), activation='relu', input_shape= (224, 224, 3)))\n",
        "    model.add(MaxPooling2D(2, 2))\n",
        "\n",
        "    for i in range(1,layers):\n",
        "      model.add(Conv2D(dense_nodes/(2**i), (3, 3), activation='relu'))\n",
        "      model.add(MaxPooling2D(2, 2))\n",
        "      model.add(BatchNormalization())\n",
        "\n",
        "    model.add(Flatten())\n",
        "    model.add(Dropout(drop))\n",
        "    model.add(Dense(30, activation='relu'))\n",
        "    model.add(Dense(1, activation=activation))\n",
        " \n",
        "    opt = SGD(lr=lr)\n",
        "\n",
        "    model.compile(loss='binary_crossentropy', optimizer=opt, metrics=['accuracy'])\n",
        "    model.summary()\n",
        "    model.fit(X_train, y_train, batch_size=batch_size, epochs=epochs,\n",
        "                        validation_split=validation_split)\n",
        "    test_model(model, X_test,y_test )\n",
        "\n",
        "    return model"
      ],
      "metadata": {
        "id": "-KnPIzjCTOX2"
      },
      "execution_count": 7,
      "outputs": []
    },
    {
      "cell_type": "code",
      "source": [
        "nodes = 256\n",
        "drop_rate = 0.40\n",
        "activation = 'sigmoid'\n",
        "epochs = 20\n",
        "lr = 0.0001\n",
        "validation_split = 0.2\n",
        "batch_size = 100\n",
        "\n",
        "for i in range(3,NumberModlesToTest):\n",
        "    name = \"model_weights\" + str(i) + \".h5\"\n",
        "    print(name)\n",
        "    model = Model(i, nodes,drop_rate,activation,epochs,lr,X_train, X_test, y_train, y_test,validation_split,batch_size)\n",
        "    model.save(name)"
      ],
      "metadata": {
        "colab": {
          "base_uri": "https://localhost:8080/"
        },
        "id": "Rt5KRKueYES4",
        "outputId": "89b8ab16-2652-451d-e8ab-6eb9617a250b"
      },
      "execution_count": null,
      "outputs": [
        {
          "output_type": "stream",
          "name": "stdout",
          "text": [
            "model_weights3.h5\n",
            "Model: \"sequential\"\n",
            "_________________________________________________________________\n",
            " Layer (type)                Output Shape              Param #   \n",
            "=================================================================\n",
            " conv2d (Conv2D)             (None, 222, 222, 256)     7168      \n",
            "                                                                 \n",
            " max_pooling2d (MaxPooling2D  (None, 111, 111, 256)    0         \n",
            " )                                                               \n",
            "                                                                 \n",
            " conv2d_1 (Conv2D)           (None, 109, 109, 128)     295040    \n",
            "                                                                 \n",
            " max_pooling2d_1 (MaxPooling  (None, 54, 54, 128)      0         \n",
            " 2D)                                                             \n",
            "                                                                 \n",
            " batch_normalization (BatchN  (None, 54, 54, 128)      512       \n",
            " ormalization)                                                   \n",
            "                                                                 \n",
            " conv2d_2 (Conv2D)           (None, 52, 52, 64)        73792     \n",
            "                                                                 \n",
            " max_pooling2d_2 (MaxPooling  (None, 26, 26, 64)       0         \n",
            " 2D)                                                             \n",
            "                                                                 \n",
            " batch_normalization_1 (Batc  (None, 26, 26, 64)       256       \n",
            " hNormalization)                                                 \n",
            "                                                                 \n",
            " flatten (Flatten)           (None, 43264)             0         \n",
            "                                                                 \n",
            " dropout (Dropout)           (None, 43264)             0         \n",
            "                                                                 \n",
            " dense (Dense)               (None, 30)                1297950   \n",
            "                                                                 \n",
            " dense_1 (Dense)             (None, 1)                 31        \n",
            "                                                                 \n",
            "=================================================================\n",
            "Total params: 1,674,749\n",
            "Trainable params: 1,674,365\n",
            "Non-trainable params: 384\n",
            "_________________________________________________________________\n"
          ]
        },
        {
          "output_type": "stream",
          "name": "stderr",
          "text": [
            "/usr/local/lib/python3.7/dist-packages/keras/optimizers/optimizer_v2/gradient_descent.py:108: UserWarning: The `lr` argument is deprecated, use `learning_rate` instead.\n",
            "  super(SGD, self).__init__(name, **kwargs)\n"
          ]
        },
        {
          "output_type": "stream",
          "name": "stdout",
          "text": [
            "Epoch 1/20\n"
          ]
        }
      ]
    },
    {
      "cell_type": "code",
      "source": [
        "from keras.models import load_model\n",
        "def Load(model_weights_file):\n",
        "\n",
        "        # load weights into the new model\n",
        "        model = load_model(model_weights_file)\n",
        "        return model"
      ],
      "metadata": {
        "id": "J-vadbjse5VI"
      },
      "execution_count": null,
      "outputs": []
    },
    {
      "cell_type": "code",
      "source": [
        "!pip install lime\n",
        "\n",
        "from lime import lime_image\n",
        "from lime.wrappers.scikit_image import SegmentationAlgorithm\n",
        "from skimage.segmentation import mark_boundaries\n",
        "\n",
        "explainer = lime_image.LimeImageExplainer() \n",
        "segmenter = SegmentationAlgorithm('quickshift', kernel_size=1, max_dist=200, ratio=0.2)"
      ],
      "metadata": {
        "id": "bVYsyL-FfnKl"
      },
      "execution_count": null,
      "outputs": []
    },
    {
      "cell_type": "code",
      "source": [
        "for i in range(3,NumberModlesToTest):\n",
        "    name = \"model_weights\" + str(i) + \".h5\"\n",
        "    model=Load(name)\n",
        "    image = X_test[0]\n",
        "    explanation = explainer.explain_instance(image.astype('double'), classifier_fn = model.predict)\n",
        "    temp, mask = explanation.get_image_and_mask(explanation.top_labels[0], \n",
        "                                            positive_only=True, \n",
        "                                            num_features=20, \n",
        "                                            hide_rest=True)\n",
        "\n",
        "    plt.imshow(mark_boundaries(temp / 2 + 0.5, mask))\n",
        "    plt.show()"
      ],
      "metadata": {
        "id": "tlnHvTzafJbC"
      },
      "execution_count": null,
      "outputs": []
    }
  ]
}